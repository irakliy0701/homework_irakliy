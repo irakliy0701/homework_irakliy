{
 "cells": [
  {
   "cell_type": "code",
   "execution_count": 1,
   "metadata": {},
   "outputs": [],
   "source": [
    "# 1) Напишем функцию, которая напрямую вычисляет обратную матрицу от суммы:\n",
    "# A - диагональная матрица p*p, U - p*k, V - k*p\n",
    "import numpy as np\n",
    "def woodbury(A,U,V):\n",
    "    return np.linalg.inv(A + U@V)"
   ]
  },
  {
   "cell_type": "code",
   "execution_count": 2,
   "metadata": {},
   "outputs": [],
   "source": [
    "# 2) Теперь напишем, функцию вычисляющую обратную матрицу от суммы по формуле (1):\n",
    "\n",
    "import numpy as np\n",
    "def fastwoodbury1(A,U,V,k):\n",
    "    A_inv = np.diag(1./np.diag(A)) # Бстрое обращение диагональной матрицы (А - диоганальна по условию)\n",
    "    B_inv = np.linalg.inv(np.eye(k) + V @ A_inv @ U)\n",
    "    return A_inv - A_inv @ U @ B_inv @ V @ A_inv"
   ]
  },
  {
   "cell_type": "code",
   "execution_count": 3,
   "metadata": {},
   "outputs": [],
   "source": [
    "# Можем улучшить наш код (fastwoodbury2 быстрее чем fastwoodbury1)\n",
    "\n",
    "import numpy as np\n",
    "def fastwoodbury2(A,U,V,k):\n",
    "    A_inv_diag = 1./np.diag(A) # Это вектор\n",
    "    B_inv = np.linalg.inv(np.eye(k) + (V * A_inv_diag) @ U)\n",
    "    return np.diag(A_inv_diag) - (A_inv_diag.reshape(-1,1) * U @ B_inv @ V * A_inv_diag)"
   ]
  },
  {
   "cell_type": "code",
   "execution_count": 4,
   "metadata": {},
   "outputs": [
    {
     "data": {
      "text/plain": [
       "array([[ 1.46486544e+00, -5.37186024e-03,  9.18680930e-03, ...,\n",
       "        -2.78408517e-01, -8.81749876e-01,  5.17886636e-03],\n",
       "       [ 2.43652695e-02, -9.16572721e-01,  4.65021940e-02, ...,\n",
       "         3.43659710e-02, -2.41601085e-03,  1.33651569e-02],\n",
       "       [-3.81841580e-01, -4.45447829e-03,  2.73237520e+00, ...,\n",
       "        -7.74449690e-01, -2.83824620e+00, -5.68421994e-02],\n",
       "       ...,\n",
       "       [-1.22400675e-01,  2.36775334e-02, -5.39142756e-02, ...,\n",
       "         4.41381594e+00,  1.36128085e+00, -5.75603311e-02],\n",
       "       [ 4.69458427e-01,  2.53024585e-02, -5.78693836e-01, ...,\n",
       "         1.68697890e-01, -7.49091624e+00, -6.17267116e-02],\n",
       "       [-6.67492582e-02,  5.73392524e-03, -3.02691094e-02, ...,\n",
       "         2.18413893e-02, -6.26541997e-02, -8.04212894e-01]])"
      ]
     },
     "execution_count": 4,
     "metadata": {},
     "output_type": "execute_result"
    }
   ],
   "source": [
    "# Рассмотрим конкретный случай \n",
    "# 1) Быстрая функция\n",
    "p = 5000\n",
    "k = 100\n",
    "A = np.diag(np.random.randn(p))\n",
    "U = np.random.randn(p, k)\n",
    "V = np.random.randn(k, p)\n",
    "fastwoodbury2(A,U,V,k)"
   ]
  },
  {
   "cell_type": "code",
   "execution_count": 5,
   "metadata": {},
   "outputs": [
    {
     "data": {
      "text/plain": [
       "array([[-1.48442092e+00,  1.33992217e-02, -2.64381647e-02, ...,\n",
       "        -1.83432280e-02, -1.11781877e-02,  2.16367550e-02],\n",
       "       [-5.20525661e-03, -1.04572729e+00,  8.66503359e-03, ...,\n",
       "        -1.01490992e-02, -1.29520850e-02,  6.58985292e-03],\n",
       "       [-6.02866748e-03, -1.07073027e-02, -1.42258872e+00, ...,\n",
       "         1.55140615e-03,  5.37130042e-02,  3.53530727e-02],\n",
       "       ...,\n",
       "       [-8.51381615e-03,  3.55038521e-02,  2.72288892e-02, ...,\n",
       "        -8.01683163e-01, -1.31285975e-01, -2.08476547e-02],\n",
       "       [ 7.56241892e-02,  4.74892611e-02,  3.40053615e-02, ...,\n",
       "        -1.42373583e-02,  3.78866325e+00, -3.23272146e-02],\n",
       "       [-4.87042873e-02,  1.91820566e-02,  5.43687231e-03, ...,\n",
       "        -2.14335834e-02, -1.02517661e-01, -1.08522447e+00]])"
      ]
     },
     "execution_count": 5,
     "metadata": {},
     "output_type": "execute_result"
    }
   ],
   "source": [
    "# 2) Медленная функция\n",
    "\n",
    "p = 5000\n",
    "k = 100\n",
    "A = np.diag(np.random.randn(p))\n",
    "U = np.random.randn(p, k)\n",
    "V = np.random.randn(k, p)\n",
    "woodbury(A,U,V)"
   ]
  },
  {
   "cell_type": "code",
   "execution_count": null,
   "metadata": {},
   "outputs": [],
   "source": [
    "# fastwoodbury(1,2) быстрее потому что, уменьшили кол-во операций (нам легче обращать матрицу k*k, чем p*p (p>k))"
   ]
  }
 ],
 "metadata": {
  "kernelspec": {
   "display_name": "Python 3",
   "language": "python",
   "name": "python3"
  },
  "language_info": {
   "codemirror_mode": {
    "name": "ipython",
    "version": 3
   },
   "file_extension": ".py",
   "mimetype": "text/x-python",
   "name": "python",
   "nbconvert_exporter": "python",
   "pygments_lexer": "ipython3",
   "version": "3.8.3"
  }
 },
 "nbformat": 4,
 "nbformat_minor": 4
}
