{
 "cells": [
  {
   "cell_type": "code",
   "execution_count": 1,
   "metadata": {},
   "outputs": [],
   "source": [
    "# 1) Напишем функцию, которая напрямую вычисляет обратную матрицу от суммы:\n",
    "\n",
    "import numpy as np\n",
    "def woodbury(A,U,V):\n",
    "    return np.linalg.inv(A + U@V)"
   ]
  },
  {
   "cell_type": "code",
   "execution_count": 6,
   "metadata": {},
   "outputs": [],
   "source": [
    "# 2) Теперь напишем, функцию вычисляющую обратную матрицу от суммы по формуле (1):\n",
    "\n",
    "import numpy as np\n",
    "def fastwoodbury1(A,U,V,k):\n",
    "    A_inv = np.diag(1./np.diag(A)) # Бстрое обращение диагональной матрицы (А - диоганальна по условию)\n",
    "    B_inv = np.linalg.inv(np.eye(k) + V @ A_inv @ U)\n",
    "    return A_inv - A_inv @ U @ B_inv @ V @ A_inv"
   ]
  },
  {
   "cell_type": "code",
   "execution_count": null,
   "metadata": {},
   "outputs": [],
   "source": []
  },
  {
   "cell_type": "code",
   "execution_count": null,
   "metadata": {},
   "outputs": [],
   "source": []
  },
  {
   "cell_type": "code",
   "execution_count": 7,
   "metadata": {},
   "outputs": [
    {
     "data": {
      "text/plain": [
       "array([[1],\n",
       "       [2],\n",
       "       [3],\n",
       "       [4],\n",
       "       [5]])"
      ]
     },
     "execution_count": 7,
     "metadata": {},
     "output_type": "execute_result"
    }
   ],
   "source": [
    "# A - диагональная матрица p*p, U - p*k, V - k*p\n",
    "A_inv_diag = np.array([1, 2, 3, 4, 5])\n",
    "A1 = A_inv_diag.reshape(-1,1)\n",
    "A1"
   ]
  },
  {
   "cell_type": "code",
   "execution_count": 8,
   "metadata": {},
   "outputs": [
    {
     "data": {
      "text/plain": [
       "array([[ 6,  7],\n",
       "       [ 8,  9],\n",
       "       [10, 11],\n",
       "       [12, 13],\n",
       "       [14, 15]])"
      ]
     },
     "execution_count": 8,
     "metadata": {},
     "output_type": "execute_result"
    }
   ],
   "source": [
    "U =np.array([6,7,8,9,10,11,12,13,14,15])\n",
    "U1 = U.reshape(5,2)\n",
    "U1"
   ]
  },
  {
   "cell_type": "code",
   "execution_count": 9,
   "metadata": {},
   "outputs": [
    {
     "data": {
      "text/plain": [
       "array([[ 6,  7],\n",
       "       [16, 18],\n",
       "       [30, 33],\n",
       "       [48, 52],\n",
       "       [70, 75]])"
      ]
     },
     "execution_count": 9,
     "metadata": {},
     "output_type": "execute_result"
    }
   ],
   "source": [
    "A1 * U1"
   ]
  },
  {
   "cell_type": "code",
   "execution_count": 10,
   "metadata": {},
   "outputs": [
    {
     "data": {
      "text/plain": [
       "array([[ 6,  7],\n",
       "       [16, 18],\n",
       "       [30, 33],\n",
       "       [48, 52],\n",
       "       [70, 75]])"
      ]
     },
     "execution_count": 10,
     "metadata": {},
     "output_type": "execute_result"
    }
   ],
   "source": [
    "np.diag(A_inv_diag) @ U1"
   ]
  },
  {
   "cell_type": "code",
   "execution_count": 11,
   "metadata": {},
   "outputs": [],
   "source": [
    "# Вывод np.diag(A_inv_diag) @ U1 тоже самое, что A1 * U1 (только * - быстрее)\n",
    "# Значит можем улучшить наш код (fastwoodbury2 быстрее чем fastwoodbury1)\n",
    "\n",
    "import numpy as np\n",
    "def fastwoodbury2(A,U,V,k):\n",
    "    A_inv_diag = 1./np.diag(A) # Это вектор\n",
    "    B_inv = np.linalg.inv(np.eye(k) + (V * A_inv_diag) @ U)\n",
    "    return np.diag(A_inv_diag) - (A_inv_diag.reshape(-1,1) * U @ B_inv @ V * A_inv_diag)"
   ]
  },
  {
   "cell_type": "code",
   "execution_count": 14,
   "metadata": {},
   "outputs": [
    {
     "data": {
      "text/plain": [
       "array([[-7.03684669e-01, -1.00178610e-04, -3.40659351e-03, ...,\n",
       "         9.55361446e-03, -1.80703153e-03, -5.27861874e-03],\n",
       "       [-6.56185091e-03, -9.29678790e-01,  4.57643951e-03, ...,\n",
       "         1.02849369e-02, -1.35815513e-04,  2.87653253e-02],\n",
       "       [ 1.13097891e-02,  2.54717262e-03,  6.58460600e-01, ...,\n",
       "        -9.32778396e-03, -6.94009632e-03, -5.01272411e-02],\n",
       "       ...,\n",
       "       [ 1.45372673e-04,  2.44318919e-04, -8.52848440e-04, ...,\n",
       "         1.13089616e+00,  2.55061752e-03,  4.47748464e-02],\n",
       "       [ 1.68123525e-02, -4.75304836e-03,  1.57408761e-03, ...,\n",
       "         2.78477048e-03,  1.04936930e+00,  6.20915859e-02],\n",
       "       [-3.38968717e-02,  3.97703124e-02,  1.41714490e-02, ...,\n",
       "         4.21128976e-02,  1.05012024e-01, -4.56547858e+00]])"
      ]
     },
     "execution_count": 14,
     "metadata": {},
     "output_type": "execute_result"
    }
   ],
   "source": [
    "# Рассмотрим конкретный случай \n",
    "# 1) Быстрая функция\n",
    "p = 5000\n",
    "k = 100\n",
    "A = np.diag(np.random.randn(p))\n",
    "U = np.random.randn(p, k)\n",
    "V = np.random.randn(k, p)\n",
    "fastwoodbury2(A,U,V,k)"
   ]
  },
  {
   "cell_type": "code",
   "execution_count": 16,
   "metadata": {},
   "outputs": [
    {
     "data": {
      "text/plain": [
       "array([[-1.71491109e+00, -1.60625064e+00,  1.47401590e-02, ...,\n",
       "        -3.96658160e-01, -2.58652214e-01,  8.36132359e-02],\n",
       "       [-3.13306638e-01, -2.64646357e+00, -9.93124422e-03, ...,\n",
       "         3.29064775e-01,  2.71925317e-01, -8.25245722e-02],\n",
       "       [ 3.14370450e-01, -1.23014942e+00,  7.97093291e-01, ...,\n",
       "        -2.66480993e-01, -1.64606272e-01,  6.20222997e-02],\n",
       "       ...,\n",
       "       [-3.94779813e-02,  9.08842757e-03,  2.92147472e-03, ...,\n",
       "        -1.34678427e+00,  7.84026813e-05,  3.06329794e-03],\n",
       "       [-1.15514619e-01,  4.02624105e-01, -4.75873847e-05, ...,\n",
       "         8.25819727e-02, -7.43094141e-01, -1.68093063e-02],\n",
       "       [ 6.09793014e-02, -2.24021529e-01,  4.06550260e-03, ...,\n",
       "        -5.87507450e-02, -3.18922428e-02, -7.63612857e-01]])"
      ]
     },
     "execution_count": 16,
     "metadata": {},
     "output_type": "execute_result"
    }
   ],
   "source": [
    "# 2) Медленная функция\n",
    "\n",
    "p = 5000\n",
    "k = 100\n",
    "A = np.diag(np.random.randn(p))\n",
    "U = np.random.randn(p, k)\n",
    "V = np.random.randn(k, p)\n",
    "woodbury(A,U,V)"
   ]
  },
  {
   "cell_type": "code",
   "execution_count": null,
   "metadata": {},
   "outputs": [],
   "source": [
    "# fastwoodbury(1,2) быстрее потому что, уменьшили кол-во операций (нам легче обращать матрицу k*k, чем p*p (p>k))"
   ]
  }
 ],
 "metadata": {
  "kernelspec": {
   "display_name": "Python 3",
   "language": "python",
   "name": "python3"
  },
  "language_info": {
   "codemirror_mode": {
    "name": "ipython",
    "version": 3
   },
   "file_extension": ".py",
   "mimetype": "text/x-python",
   "name": "python",
   "nbconvert_exporter": "python",
   "pygments_lexer": "ipython3",
   "version": "3.8.3"
  }
 },
 "nbformat": 4,
 "nbformat_minor": 4
}
