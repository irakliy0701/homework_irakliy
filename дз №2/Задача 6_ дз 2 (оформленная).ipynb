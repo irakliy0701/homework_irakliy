{
 "cells": [
  {
   "cell_type": "code",
   "execution_count": 2,
   "metadata": {},
   "outputs": [],
   "source": [
    "# 1) Напишем функцию, которая напрямую вычисляет обратную матрицу от суммы:\n",
    "\n",
    "import numpy as np\n",
    "def woodbury(A,U,V):\n",
    "    return np.linalg.inv(A + U@V)"
   ]
  },
  {
   "cell_type": "code",
   "execution_count": 34,
   "metadata": {},
   "outputs": [],
   "source": [
    "# 2) Теперь напишем, функцию вычисляющую обратную матрицу от суммы по формуле (1):\n",
    "\n",
    "import numpy as np\n",
    "def fastwoodbury1(A,U,V,k):\n",
    "    A_inv = np.diag(1./np.diag(A)) # Бстрое обращение диагональной матрицы (А - диоганальна по условию)\n",
    "    B_inv = np.linalg.inv(np.eye(k) + V @ A_inv @ U)\n",
    "    return A_inv - A_inv @ U @ B_inv @ V @ A_inv"
   ]
  },
  {
   "cell_type": "code",
   "execution_count": 35,
   "metadata": {},
   "outputs": [
    {
     "name": "stdout",
     "output_type": "stream",
     "text": [
      "7.5999996624887e-08\n"
     ]
    }
   ],
   "source": [
    "# 3) Сравним какая из 2 функций быстрее\n",
    "\n",
    "import numpy as np\n",
    "import timeit\n",
    "code_to_test = \"\"\"\n",
    "def woodbury(A,U,V):\n",
    "    return np.linalg.inv(A + U@V)\n",
    "\"\"\" \n",
    "elapsed_time = timeit.timeit(code_to_test, number=100)/100\n",
    "print(elapsed_time)"
   ]
  },
  {
   "cell_type": "code",
   "execution_count": 36,
   "metadata": {},
   "outputs": [
    {
     "name": "stdout",
     "output_type": "stream",
     "text": [
      "7.399999958579429e-08\n"
     ]
    }
   ],
   "source": [
    "import numpy as np\n",
    "import timeit\n",
    "code_to_test = \"\"\"\n",
    "def fastwoodbury(A,U,V,k):\n",
    "    A_inv = np.diag(1./np.diag(A))\n",
    "    B_inv = np.linalg.inv(np.eye(k) + V @ A_inv @ U)\n",
    "    return A_inv - A_inv @ U @ B_inv @ V @ A_inv\n",
    "\"\"\"\n",
    "elapsed_time = timeit.timeit(code_to_test, number=100)/100\n",
    "print(elapsed_time)"
   ]
  },
  {
   "cell_type": "code",
   "execution_count": 37,
   "metadata": {},
   "outputs": [
    {
     "data": {
      "text/plain": [
       "array([[1],\n",
       "       [2],\n",
       "       [3],\n",
       "       [4],\n",
       "       [5]])"
      ]
     },
     "execution_count": 37,
     "metadata": {},
     "output_type": "execute_result"
    }
   ],
   "source": [
    "# A - диагональная матрица p*p, U - p*k, V - k*p\n",
    "A_inv_diag = np.array([1, 2, 3, 4, 5])\n",
    "A1 = A_inv_diag.reshape(-1,1)\n",
    "A1"
   ]
  },
  {
   "cell_type": "code",
   "execution_count": 38,
   "metadata": {},
   "outputs": [
    {
     "data": {
      "text/plain": [
       "array([[ 6,  7],\n",
       "       [ 8,  9],\n",
       "       [10, 11],\n",
       "       [12, 13],\n",
       "       [14, 15]])"
      ]
     },
     "execution_count": 38,
     "metadata": {},
     "output_type": "execute_result"
    }
   ],
   "source": [
    "U =np.array([6,7,8,9,10,11,12,13,14,15])\n",
    "U1 = U.reshape(5,2)\n",
    "U1"
   ]
  },
  {
   "cell_type": "code",
   "execution_count": 39,
   "metadata": {},
   "outputs": [
    {
     "data": {
      "text/plain": [
       "array([[ 6,  7],\n",
       "       [16, 18],\n",
       "       [30, 33],\n",
       "       [48, 52],\n",
       "       [70, 75]])"
      ]
     },
     "execution_count": 39,
     "metadata": {},
     "output_type": "execute_result"
    }
   ],
   "source": [
    "A1 * U1"
   ]
  },
  {
   "cell_type": "code",
   "execution_count": 40,
   "metadata": {},
   "outputs": [
    {
     "data": {
      "text/plain": [
       "array([[ 6,  7],\n",
       "       [16, 18],\n",
       "       [30, 33],\n",
       "       [48, 52],\n",
       "       [70, 75]])"
      ]
     },
     "execution_count": 40,
     "metadata": {},
     "output_type": "execute_result"
    }
   ],
   "source": [
    "np.diag(A_inv_diag) @ U1"
   ]
  },
  {
   "cell_type": "code",
   "execution_count": 41,
   "metadata": {},
   "outputs": [],
   "source": [
    "# Вывод np.diag(A_inv_diag) @ U1 тоже самое, что A1 * U1 (только * - быстрее)\n",
    "# Значит можем улучшить наш код\n",
    "\n",
    "import numpy as np\n",
    "def fastwoodbury2(A,U,V,k):\n",
    "    A_inv_diag = 1./np.diag(A) # Это вектор\n",
    "    B_inv = np.linalg.inv(np.eye(k) + (V * A_inv_diag) @ U)\n",
    "    return np.diag(A_inv_diag) - (A_inv_diag.reshape(-1,1) * U @ B_inv @ V * A_inv_diag)"
   ]
  },
  {
   "cell_type": "code",
   "execution_count": 42,
   "metadata": {},
   "outputs": [
    {
     "data": {
      "text/plain": [
       "array([[-8.00442692e-01, -5.55832617e+00, -1.52802558e-01, ...,\n",
       "         4.38426134e-01, -7.68311085e-02, -1.45758234e+00],\n",
       "       [ 8.70594474e+00, -8.59363321e+01, -2.14181879e+00, ...,\n",
       "         7.30618592e+00, -1.12193782e+00, -2.47135917e+01],\n",
       "       [-3.90088659e-01,  3.76050227e+00, -1.93726115e+00, ...,\n",
       "        -3.02825510e-01,  7.18600622e-02,  9.38134036e-01],\n",
       "       ...,\n",
       "       [-1.11071557e+00,  1.15855098e+01,  3.20634611e-01, ...,\n",
       "         7.29803191e-01,  1.46720708e-01,  3.04533059e+00],\n",
       "       [ 5.14731318e-02, -4.39375218e-01, -1.32573599e-02, ...,\n",
       "         4.87336480e-02, -9.53917170e-01, -1.14763163e-01],\n",
       "       [ 6.50479337e-01, -7.55640899e+00,  2.44165214e-03, ...,\n",
       "         5.68147041e-01, -8.60027656e-02, -6.42534371e+00]])"
      ]
     },
     "execution_count": 42,
     "metadata": {},
     "output_type": "execute_result"
    }
   ],
   "source": [
    "# Рассмотрим конкретный случай \n",
    "# 1) Быстрая функция\n",
    "p = 5000\n",
    "k = 100\n",
    "A = np.diag(np.random.randn(p))\n",
    "U = np.random.randn(p, k)\n",
    "V = np.random.randn(k, p)\n",
    "fastwoodbury1(A,U,V,k)"
   ]
  },
  {
   "cell_type": "code",
   "execution_count": 43,
   "metadata": {},
   "outputs": [
    {
     "data": {
      "text/plain": [
       "array([[ 7.37099213e-01,  5.44918522e-03, -5.41618278e-03, ...,\n",
       "         5.26618361e-02,  2.92050338e-02,  1.09140156e-03],\n",
       "       [-2.20704619e-03,  2.21429080e+00, -2.31732387e-02, ...,\n",
       "        -6.22843633e-02, -2.32013991e-01, -2.45041315e-03],\n",
       "       [ 1.95904338e-02, -1.13146350e-03,  1.15289123e+00, ...,\n",
       "        -1.42982839e-01,  4.59596716e-03, -2.08600947e-02],\n",
       "       ...,\n",
       "       [ 5.04520024e-02,  1.57132907e-01,  3.02613103e-02, ...,\n",
       "        -6.98944151e+00, -1.00102921e-01,  9.39060727e-03],\n",
       "       [ 3.95145150e-03,  2.05990256e-01,  6.56280106e-02, ...,\n",
       "         4.05252995e-01,  9.71983290e+00,  1.58205480e-02],\n",
       "       [-1.85961590e-03, -7.33150732e-03, -2.47049405e-03, ...,\n",
       "        -1.75956068e-02, -7.33076746e-03,  5.74534214e-01]])"
      ]
     },
     "execution_count": 43,
     "metadata": {},
     "output_type": "execute_result"
    }
   ],
   "source": [
    "# 2) Медленная функция\n",
    "\n",
    "p = 5000\n",
    "k = 100\n",
    "A = np.diag(np.random.randn(p))\n",
    "U = np.random.randn(p, k)\n",
    "V = np.random.randn(k, p)\n",
    "woodbury(A,U,V)"
   ]
  },
  {
   "cell_type": "code",
   "execution_count": null,
   "metadata": {},
   "outputs": [],
   "source": [
    "# fastwoodbury быстрее потому что, уменьшили кол-во операций (нам легче обращать матрицу k*k, чем p*p (p>k))"
   ]
  }
 ],
 "metadata": {
  "kernelspec": {
   "display_name": "Python 3",
   "language": "python",
   "name": "python3"
  },
  "language_info": {
   "codemirror_mode": {
    "name": "ipython",
    "version": 3
   },
   "file_extension": ".py",
   "mimetype": "text/x-python",
   "name": "python",
   "nbconvert_exporter": "python",
   "pygments_lexer": "ipython3",
   "version": "3.8.3"
  }
 },
 "nbformat": 4,
 "nbformat_minor": 4
}
