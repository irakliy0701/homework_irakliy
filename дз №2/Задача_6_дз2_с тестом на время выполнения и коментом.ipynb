{
 "cells": [
  {
   "cell_type": "code",
   "execution_count": 14,
   "metadata": {},
   "outputs": [],
   "source": [
    "import numpy as np\n",
    "import timeit"
   ]
  },
  {
   "cell_type": "code",
   "execution_count": 15,
   "metadata": {},
   "outputs": [],
   "source": [
    "def fastwoodbury(A, U, V, k):\n",
    "    A_inv_diag = 1./np.diag(A)\n",
    "    B_inv = np.linalg.inv(np.eye(k) + (V * A_inv_diag) @ U)\n",
    "    return np.diag(A_inv_diag) - (A_inv_diag.reshape(-1,1) * U @ B_inv @ V * A_inv_diag)"
   ]
  },
  {
   "cell_type": "code",
   "execution_count": 16,
   "metadata": {},
   "outputs": [],
   "source": [
    "def func(A,U,V):\n",
    "    return np.linalg.inv(A + U@V)"
   ]
  },
  {
   "cell_type": "code",
   "execution_count": 17,
   "metadata": {},
   "outputs": [
    {
     "name": "stdout",
     "output_type": "stream",
     "text": [
      "7.700000196564361e-08\n"
     ]
    }
   ],
   "source": [
    "code_to_test = \"\"\"\n",
    "def func(A,U,V):\n",
    "    return np.linalg.inv(A + U@V)\n",
    "\"\"\" \n",
    "elapsed_time = timeit.timeit(code_to_test, number=100)/100\n",
    "print(elapsed_time)"
   ]
  },
  {
   "cell_type": "code",
   "execution_count": 18,
   "metadata": {},
   "outputs": [
    {
     "name": "stdout",
     "output_type": "stream",
     "text": [
      "6.70000008540228e-08\n"
     ]
    }
   ],
   "source": [
    "code_to_test = \"\"\"\n",
    "def fastwoodbury(A, U, V, k):\n",
    "    A_inv_diag = 1./np.diag(A)\n",
    "    B_inv = np.linalg.inv(np.eye(k) + (V * A_inv_diag) @ U)\n",
    "    return np.diag(A_inv_diag) - (A_inv_diag.reshape(-1,1) * U @ B_inv @ V * A_inv_diag)\n",
    "\"\"\"\n",
    "elapsed_time = timeit.timeit(code_to_test, number=100)/100\n",
    "print(elapsed_time)"
   ]
  },
  {
   "cell_type": "code",
   "execution_count": null,
   "metadata": {},
   "outputs": [],
   "source": [
    "# Таким образом наша функция fastwoodbury быстреее чем func"
   ]
  }
 ],
 "metadata": {
  "kernelspec": {
   "display_name": "Python 3",
   "language": "python",
   "name": "python3"
  },
  "language_info": {
   "codemirror_mode": {
    "name": "ipython",
    "version": 3
   },
   "file_extension": ".py",
   "mimetype": "text/x-python",
   "name": "python",
   "nbconvert_exporter": "python",
   "pygments_lexer": "ipython3",
   "version": "3.8.3"
  }
 },
 "nbformat": 4,
 "nbformat_minor": 4
}
