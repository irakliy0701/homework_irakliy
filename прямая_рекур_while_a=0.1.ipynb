{
 "cells": [
  {
   "cell_type": "code",
   "execution_count": 2,
   "metadata": {},
   "outputs": [],
   "source": [
    "import numpy as np\n",
    "import matplotlib.pyplot as plt\n",
    "%matplotlib inline\n",
    "a = np.zeros(100)\n",
    "a[0] = np.log((1 + 0.1)/(0.1))\n",
    "c = 1\n",
    "while c!=100:\n",
    "    a[c] = (1 - (0.1)*c*a[c-1])/c\n",
    "    c+=1"
   ]
  },
  {
   "cell_type": "code",
   "execution_count": 3,
   "metadata": {},
   "outputs": [
    {
     "data": {
      "text/plain": [
       "[<matplotlib.lines.Line2D at 0x1c67a0744f0>]"
      ]
     },
     "execution_count": 3,
     "metadata": {},
     "output_type": "execute_result"
    },
    {
     "data": {
      "image/png": "[encoded data removed]",
      "text/plain": [
       "<Figure size 432x288 with 1 Axes>"
      ]
     },
     "metadata": {
      "needs_background": "light"
     },
     "output_type": "display_data"
    }
   ],
   "source": [
    "plt.plot(a[1:])"
   ]
  },
  {
   "cell_type": "code",
   "execution_count": 4,
   "metadata": {},
   "outputs": [
    {
     "data": {
      "text/plain": [
       "0.03622697090911682"
      ]
     },
     "execution_count": 4,
     "metadata": {},
     "output_type": "execute_result"
    }
   ],
   "source": [
    "a[25]"
   ]
  },
  {
   "cell_type": "code",
   "execution_count": 5,
   "metadata": {},
   "outputs": [
    {
     "data": {
      "text/plain": [
       "array([2.39789527, 0.76021047, 0.42397895, 0.29093544, 0.22090646,\n",
       "       0.17790935, 0.14887573, 0.12796957, 0.11220304, 0.09989081,\n",
       "       0.09001092, 0.081908  , 0.07514253, 0.06940882, 0.06448769,\n",
       "       0.0602179 , 0.05647821, 0.05317571, 0.05023798, 0.04760778,\n",
       "       0.04523922, 0.04309513, 0.04114503, 0.03936376, 0.03773029,\n",
       "       0.03622697, 0.03483884, 0.03355315, 0.03235897, 0.03124686,\n",
       "       0.03020865, 0.0292372 , 0.02832628, 0.0274704 , 0.02666472,\n",
       "       0.02590496, 0.02518728, 0.0245083 , 0.02386496, 0.02325453,\n",
       "       0.02267455, 0.02212279, 0.02159724, 0.02109609, 0.02061766,\n",
       "       0.02016046, 0.01972308, 0.01930429, 0.0189029 , 0.01851787,\n",
       "       0.01814821, 0.01779302, 0.01745147, 0.01712278, 0.01680624,\n",
       "       0.01650119, 0.01620702, 0.01592316, 0.01564906, 0.01538425,\n",
       "       0.01512824, 0.01488062, 0.01464097, 0.01440892, 0.01418411,\n",
       "       0.0139662 , 0.01375489, 0.01354988, 0.01335089, 0.01315766,\n",
       "       0.01296995, 0.01278751, 0.01261014, 0.01243762, 0.01226975,\n",
       "       0.01210636, 0.01194726, 0.01179229, 0.01164128, 0.0114941 ,\n",
       "       0.01135059, 0.01121062, 0.01107406, 0.01094079, 0.01081068,\n",
       "       0.01068364, 0.01055954, 0.0104383 , 0.01031981, 0.01020397,\n",
       "       0.01009071, 0.00997994, 0.00987157, 0.00976553, 0.00966174,\n",
       "       0.00956014, 0.00946065, 0.00936321, 0.00926776, 0.00917423])"
      ]
     },
     "execution_count": 5,
     "metadata": {},
     "output_type": "execute_result"
    }
   ],
   "source": [
    "a"
   ]
  },
  {
   "cell_type": "code",
   "execution_count": null,
   "metadata": {},
   "outputs": [],
   "source": []
  }
 ],
 "metadata": {
  "kernelspec": {
   "display_name": "Python 3",
   "language": "python",
   "name": "python3"
  },
  "language_info": {
   "codemirror_mode": {
    "name": "ipython",
    "version": 3
   },
   "file_extension": ".py",
   "mimetype": "text/x-python",
   "name": "python",
   "nbconvert_exporter": "python",
   "pygments_lexer": "ipython3",
   "version": "3.8.3"
  }
 },
 "nbformat": 4,
 "nbformat_minor": 4
}
