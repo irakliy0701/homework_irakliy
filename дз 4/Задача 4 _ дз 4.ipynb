{
 "cells": [
  {
   "cell_type": "code",
   "execution_count": 516,
   "metadata": {},
   "outputs": [],
   "source": [
    "import numpy as np\n",
    "from numpy import linalg as LA\n",
    "import matplotlib.pyplot as plt"
   ]
  },
  {
   "cell_type": "code",
   "execution_count": 517,
   "metadata": {},
   "outputs": [],
   "source": [
    "A = np.array([[3,1,0,0],[1,2,0,1],[0,0,1,1],[0,1,1,1]])"
   ]
  },
  {
   "cell_type": "code",
   "execution_count": 518,
   "metadata": {},
   "outputs": [],
   "source": [
    "# 1) Степенная итерация\n",
    "\n",
    "v = np.random.random(4) # Cтартуем с случайного вектора\n",
    "v/=LA.norm(v) # Нормировка случайного вектора"
   ]
  },
  {
   "cell_type": "code",
   "execution_count": 519,
   "metadata": {},
   "outputs": [
    {
     "data": {
      "text/plain": [
       "array([0.57569053, 0.56619966, 0.15827069, 0.5682858 ])"
      ]
     },
     "execution_count": 519,
     "metadata": {},
     "output_type": "execute_result"
    }
   ],
   "source": [
    "v"
   ]
  },
  {
   "cell_type": "code",
   "execution_count": 520,
   "metadata": {},
   "outputs": [],
   "source": [
    "for i in range(10): # Цикл для поиска максимального собств. знач.\n",
    "    v = A @ v\n",
    "    v/=LA.norm(v)"
   ]
  },
  {
   "cell_type": "code",
   "execution_count": 521,
   "metadata": {},
   "outputs": [
    {
     "data": {
      "text/plain": [
       "array([0.77100501, 0.58102115, 0.0897077 , 0.24478201])"
      ]
     },
     "execution_count": 521,
     "metadata": {},
     "output_type": "execute_result"
    }
   ],
   "source": [
    "v # вектор, который получился после того,как на изначальный вектор подействовали матрицей А 10 раз (собственный вектор)"
   ]
  },
  {
   "cell_type": "code",
   "execution_count": 522,
   "metadata": {},
   "outputs": [
    {
     "data": {
      "text/plain": [
       "array([3.75358934, 3.7482789 , 3.72866212, 3.74010679])"
      ]
     },
     "execution_count": 522,
     "metadata": {},
     "output_type": "execute_result"
    }
   ],
   "source": [
    "(A @ v)/v # Максимальное собственное значение для получившегося после цикла собственного вектора"
   ]
  },
  {
   "cell_type": "code",
   "execution_count": 523,
   "metadata": {},
   "outputs": [],
   "source": [
    "# Найдем какое кол-во шагов нужно, чтобы получить настоящий собственный вектор с точностью 10**(-3)\n",
    "\n",
    "sys = LA.eigh(A) # найдем настоящие собственные числа и вектора"
   ]
  },
  {
   "cell_type": "code",
   "execution_count": 524,
   "metadata": {},
   "outputs": [
    {
     "data": {
      "text/plain": [
       "array([-0.28399787,  1.21473855,  2.3184589 ,  3.75080042])"
      ]
     },
     "execution_count": 524,
     "metadata": {},
     "output_type": "execute_result"
    }
   ],
   "source": [
    "sys[0] # Собственные значения (максимальное примерно совпадает с тем, которе мы посчитали степенной итерацией)"
   ]
  },
  {
   "cell_type": "code",
   "execution_count": 525,
   "metadata": {},
   "outputs": [
    {
     "data": {
      "text/plain": [
       "array([[-0.11203111,  0.35688275,  0.51313991, -0.77250966],\n",
       "       [ 0.36790993, -0.63712901, -0.34972594, -0.58000058],\n",
       "       [ 0.56719284,  0.66792899, -0.4736691 , -0.08832178],\n",
       "       [-0.7282744 ,  0.1434301 , -0.62451324, -0.2429556 ]])"
      ]
     },
     "execution_count": 525,
     "metadata": {},
     "output_type": "execute_result"
    }
   ],
   "source": [
    "sys[1] # Матрица собственных векторов (по столбцам). Максимальному собствен. знач. соотв. последний столбец"
   ]
  },
  {
   "cell_type": "code",
   "execution_count": 526,
   "metadata": {},
   "outputs": [],
   "source": [
    "psi = sys[1][:,-1] # Вытащили и запомнили последний стоблец матрицы собственных значений (истинный соб. вектор)"
   ]
  },
  {
   "cell_type": "code",
   "execution_count": 527,
   "metadata": {},
   "outputs": [],
   "source": [
    "# Перед тем как считать разность v и psi, надо их выравнять по знаку первого элемента\n",
    "# Так как с.в определен с точность до знака (коэффициента)\n",
    "\n",
    "v *= np.sign(v[0]/psi[0])"
   ]
  },
  {
   "cell_type": "code",
   "execution_count": 528,
   "metadata": {},
   "outputs": [
    {
     "name": "stdout",
     "output_type": "stream",
     "text": [
      "[-0.77100501 -0.58102115 -0.0897077  -0.24478201]\n",
      "[-0.77250966 -0.58000058 -0.08832178 -0.2429556 ]\n"
     ]
    }
   ],
   "source": [
    "# Теперь у v и psi одинаковые знаки\n",
    "print(v)\n",
    "print(psi)"
   ]
  },
  {
   "cell_type": "code",
   "execution_count": 529,
   "metadata": {},
   "outputs": [
    {
     "data": {
      "text/plain": [
       "0.0029261092129212424"
      ]
     },
     "execution_count": 529,
     "metadata": {},
     "output_type": "execute_result"
    }
   ],
   "source": [
    "LA.norm(v - psi) # Это именно та норма, которая нам нужна (см. np.info(LA.norm))"
   ]
  },
  {
   "cell_type": "code",
   "execution_count": 530,
   "metadata": {},
   "outputs": [
    {
     "name": "stdout",
     "output_type": "stream",
     "text": [
      "Номер итерации0 0.410898562544595\n",
      "Номер итерации1 0.22523901731587792\n",
      "Номер итерации2 0.13309224625959534\n",
      "Номер итерации3 0.0812152238981829\n",
      "Номер итерации4 0.05003808687158664\n",
      "Номер итерации5 0.030906796324653363\n",
      "Номер итерации6 0.019101506177209265\n",
      "Номер итерации7 0.011806913661545152\n",
      "Номер итерации8 0.007298169531406209\n",
      "Номер итерации9 0.004511193767893307\n",
      "Номер итерации10 0.002788483482805386\n",
      "Номер итерации11 0.0017236300497317785\n",
      "Номер итерации12 0.0010654172715092644\n",
      "Номер итерации13 0.0006585598853082438\n",
      "Номер итерации14 0.00040707155506268733\n"
     ]
    }
   ],
   "source": [
    "# Посмторим как меняется невязка в цикле:\n",
    "v = np.random.random(4)\n",
    "v/=LA.norm(v)\n",
    "for i in range(15): # Цикл для поиска максимального собств. знач.\n",
    "    v = A @ v\n",
    "    v/=LA.norm(v)\n",
    "    v *= np.sign(v[0]/psi[0])\n",
    "    print('Номер итерации' + f'{i}',LA.norm(v - psi))"
   ]
  },
  {
   "cell_type": "code",
   "execution_count": 531,
   "metadata": {},
   "outputs": [],
   "source": [
    "# Видим, что на 13 итерации невязка становится порядка 10**(-3)"
   ]
  },
  {
   "cell_type": "code",
   "execution_count": 532,
   "metadata": {},
   "outputs": [
    {
     "name": "stdout",
     "output_type": "stream",
     "text": [
      "Номер итерации0 0.10290407329258318\n",
      "Номер итерации1 0.015827746485905788\n",
      "Номер итерации2 0.002962483274057791\n",
      "Номер итерации3 0.0006052366221191453\n",
      "Номер итерации4 0.00012711826196697953\n",
      "Номер итерации5 2.6905965267562377e-05\n",
      "Номер итерации6 5.706847962568125e-06\n",
      "Номер итерации7 1.2111196171405908e-06\n",
      "Номер итерации8 2.570648865078946e-07\n",
      "Номер итерации9 5.4565212107101156e-08\n",
      "Номер итерации10 1.158226744774743e-08\n",
      "Номер итерации11 2.4585131358695633e-09\n",
      "Номер итерации12 5.218576287492196e-10\n",
      "Номер итерации13 1.107722150444186e-10\n",
      "Номер итерации14 2.3513228857696902e-11\n"
     ]
    }
   ],
   "source": [
    "# 2) Обратная итерация с mu = 3.5\n",
    "\n",
    "v = np.random.random(4)\n",
    "v/=LA.norm(v)\n",
    "mu = 3.5\n",
    "B = LA.inv(A - mu * np.eye(4))\n",
    "sys = LA.eigh(A)\n",
    "psi = sys[1][:,-1]\n",
    "for i in range(15): # Цикл для поиска собств. знач. около mu\n",
    "    v = B @ v\n",
    "    v/=LA.norm(v)\n",
    "    v *= np.sign(v[0]/psi[0])\n",
    "    print('Номер итерации' + f'{i}',LA.norm(v - psi))"
   ]
  },
  {
   "cell_type": "code",
   "execution_count": 533,
   "metadata": {},
   "outputs": [],
   "source": [
    "# Видим, что невязка на 3 итерации становится порядка 10**(-3)"
   ]
  },
  {
   "cell_type": "code",
   "execution_count": 534,
   "metadata": {},
   "outputs": [
    {
     "data": {
      "text/plain": [
       "array([-0.77250966, -0.58000058, -0.08832178, -0.2429556 ])"
      ]
     },
     "execution_count": 534,
     "metadata": {},
     "output_type": "execute_result"
    }
   ],
   "source": [
    "v # Примерно собств. вектор"
   ]
  },
  {
   "cell_type": "code",
   "execution_count": 535,
   "metadata": {},
   "outputs": [
    {
     "data": {
      "text/plain": [
       "array([3.75080042, 3.75080042, 3.75080042, 3.75080042])"
      ]
     },
     "execution_count": 535,
     "metadata": {},
     "output_type": "execute_result"
    }
   ],
   "source": [
    "(A @ v)/v"
   ]
  },
  {
   "cell_type": "code",
   "execution_count": 536,
   "metadata": {},
   "outputs": [
    {
     "name": "stdout",
     "output_type": "stream",
     "text": [
      "Номер итерации0 0.0150908695558879\n",
      "Номер итерации1 0.00037654205888353916\n",
      "Номер итерации2 1.1411852716678726e-05\n",
      "Номер итерации3 3.8947752195394034e-07\n",
      "Номер итерации4 1.396861800819143e-08\n",
      "Номер итерации5 5.095957289894016e-10\n",
      "Номер итерации6 1.8692349370838725e-11\n",
      "Номер итерации7 6.866633395230303e-13\n",
      "Номер итерации8 2.5354855051481836e-14\n",
      "Номер итерации9 7.874956775073054e-16\n",
      "Номер итерации10 2.0955000055363631e-16\n",
      "Номер итерации11 1.6243534171511178e-16\n",
      "Номер итерации12 1.3092278833360675e-16\n",
      "Номер итерации13 1.3092278833360675e-16\n",
      "Номер итерации14 1.3092278833360675e-16\n"
     ]
    }
   ],
   "source": [
    "# 3) Обратная итерация с mu = 3.7\n",
    "\n",
    "v = np.random.random(4)\n",
    "v/=LA.norm(v)\n",
    "mu = 3.7\n",
    "B = LA.inv(A - mu * np.eye(4))\n",
    "sys = LA.eigh(A)\n",
    "psi = sys[1][:,-1]\n",
    "for i in range(15): # Цикл для поиска собств. знач. около mu\n",
    "    v = B @ v\n",
    "    v/=LA.norm(v)\n",
    "    v *= np.sign(v[0]/psi[0])\n",
    "    print('Номер итерации' + f'{i}',LA.norm(v - psi))"
   ]
  },
  {
   "cell_type": "code",
   "execution_count": 513,
   "metadata": {},
   "outputs": [],
   "source": [
    "# Видим, что невязка на 1 итерации становится порядка 10**(-3)\n",
    "# Так и должно быть : невзка при mu = 3.7 сходится быстрее к 0, чем при  mu = 3.5 (так как знаем, что макс с.в = 3.75...)"
   ]
  }
 ],
 "metadata": {
  "kernelspec": {
   "display_name": "Python 3",
   "language": "python",
   "name": "python3"
  },
  "language_info": {
   "codemirror_mode": {
    "name": "ipython",
    "version": 3
   },
   "file_extension": ".py",
   "mimetype": "text/x-python",
   "name": "python",
   "nbconvert_exporter": "python",
   "pygments_lexer": "ipython3",
   "version": "3.8.3"
  }
 },
 "nbformat": 4,
 "nbformat_minor": 4
}
