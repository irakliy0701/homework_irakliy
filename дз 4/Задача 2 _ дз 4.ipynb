{
 "cells": [
  {
   "cell_type": "code",
   "execution_count": 72,
   "metadata": {},
   "outputs": [],
   "source": [
    "import numpy as np\n",
    "import matplotlib.pyplot as plt"
   ]
  },
  {
   "cell_type": "code",
   "execution_count": 73,
   "metadata": {},
   "outputs": [
    {
     "data": {
      "text/plain": [
       "array([[12.53514931,  9.10174965, -1.93828111, -6.66879821, -0.26993177,\n",
       "         4.38236817,  1.61937134,  1.76642528, -1.78943592,  0.13654388],\n",
       "       [ 9.10174965, 17.80379555,  4.45221708, -4.35626338, -3.43126563,\n",
       "         9.1811882 , -1.65867781, -2.65989729,  2.89689897, -1.01227773],\n",
       "       [-1.93828111,  4.45221708, 14.70308338,  4.93704913,  0.81069707,\n",
       "         3.58665779, -1.32612212, -2.64864336,  3.40352905, -1.90095142],\n",
       "       [-6.66879821, -4.35626338,  4.93704913,  8.27641198,  3.18573012,\n",
       "        -3.38793172,  0.87523328,  1.07247065,  0.37429267, -3.40399953],\n",
       "       [-0.26993177, -3.43126563,  0.81069707,  3.18573012, 14.25490997,\n",
       "        -1.85667402,  7.93272194,  1.01130452, -1.14706703,  0.94373222],\n",
       "       [ 4.38236817,  9.1811882 ,  3.58665779, -3.38793172, -1.85667402,\n",
       "        11.68263976, -0.74274833, -1.19767938,  1.45330696, -2.31655455],\n",
       "       [ 1.61937134, -1.65867781, -1.32612212,  0.87523328,  7.93272194,\n",
       "        -0.74274833, 16.20313529, -3.7755904 ,  2.99004931, -6.32893363],\n",
       "       [ 1.76642528, -2.65989729, -2.64864336,  1.07247065,  1.01130452,\n",
       "        -1.19767938, -3.7755904 ,  6.92884268, -5.68801406,  0.07630019],\n",
       "       [-1.78943592,  2.89689897,  3.40352905,  0.37429267, -1.14706703,\n",
       "         1.45330696,  2.99004931, -5.68801406,  8.72207428,  0.56872629],\n",
       "       [ 0.13654388, -1.01227773, -1.90095142, -3.40399953,  0.94373222,\n",
       "        -2.31655455, -6.32893363,  0.07630019,  0.56872629,  9.92283634]])"
      ]
     },
     "execution_count": 73,
     "metadata": {},
     "output_type": "execute_result"
    }
   ],
   "source": [
    "n = 10\n",
    "a = np.random.normal(0,1,(n,n))\n",
    "A = a @ a.T\n",
    "A"
   ]
  },
  {
   "cell_type": "code",
   "execution_count": 74,
   "metadata": {},
   "outputs": [
    {
     "data": {
      "text/plain": [
       "array([3.10076829e-02, 1.59281038e-01, 2.44906741e+00, 3.91217521e+00,\n",
       "       5.91512891e+00, 1.22301020e+01, 1.38066925e+01, 2.18218116e+01,\n",
       "       2.59226973e+01, 3.47849149e+01])"
      ]
     },
     "execution_count": 74,
     "metadata": {},
     "output_type": "execute_result"
    }
   ],
   "source": [
    "np.linalg.eigvalsh(A)"
   ]
  },
  {
   "cell_type": "code",
   "execution_count": 75,
   "metadata": {},
   "outputs": [
    {
     "data": {
      "text/plain": [
       "<matplotlib.image.AxesImage at 0x2593ca45b80>"
      ]
     },
     "execution_count": 75,
     "metadata": {},
     "output_type": "execute_result"
    },
    {
     "data": {
      "image/png": "[encoded data removed]",
      "text/plain": [
       "<Figure size 432x288 with 1 Axes>"
      ]
     },
     "metadata": {
      "needs_background": "light"
     },
     "output_type": "display_data"
    }
   ],
   "source": [
    "plt.imshow(A)"
   ]
  },
  {
   "cell_type": "code",
   "execution_count": 76,
   "metadata": {},
   "outputs": [],
   "source": [
    "for i in range(1024):\n",
    "    q,r = np.linalg.qr(A)\n",
    "    A = r @ q"
   ]
  },
  {
   "cell_type": "code",
   "execution_count": 77,
   "metadata": {},
   "outputs": [
    {
     "data": {
      "text/plain": [
       "<matplotlib.image.AxesImage at 0x2593ca954f0>"
      ]
     },
     "execution_count": 77,
     "metadata": {},
     "output_type": "execute_result"
    },
    {
     "data": {
      "image/png": "[encoded data removed]",
      "text/plain": [
       "<Figure size 432x288 with 1 Axes>"
      ]
     },
     "metadata": {
      "needs_background": "light"
     },
     "output_type": "display_data"
    }
   ],
   "source": [
    "plt.imshow(A)"
   ]
  },
  {
   "cell_type": "code",
   "execution_count": 78,
   "metadata": {},
   "outputs": [
    {
     "data": {
      "text/plain": [
       "array([3.47849149e+01, 2.59226973e+01, 2.18218116e+01, 1.38066925e+01,\n",
       "       1.22301020e+01, 5.91512891e+00, 3.91217521e+00, 2.44906741e+00,\n",
       "       1.59281038e-01, 3.10076829e-02])"
      ]
     },
     "execution_count": 78,
     "metadata": {},
     "output_type": "execute_result"
    }
   ],
   "source": [
    "np.diag(A)"
   ]
  },
  {
   "cell_type": "code",
   "execution_count": 79,
   "metadata": {},
   "outputs": [
    {
     "data": {
      "text/plain": [
       "array([3.10076829e-02, 1.59281038e-01, 2.44906741e+00, 3.91217521e+00,\n",
       "       5.91512891e+00, 1.22301020e+01, 1.38066925e+01, 2.18218116e+01,\n",
       "       2.59226973e+01, 3.47849149e+01])"
      ]
     },
     "execution_count": 79,
     "metadata": {},
     "output_type": "execute_result"
    }
   ],
   "source": [
    "np.linalg.eigvalsh(A)"
   ]
  },
  {
   "cell_type": "code",
   "execution_count": 80,
   "metadata": {},
   "outputs": [],
   "source": [
    "# Посчитаем какое кол-во операци нужно чтобы приблизить минимальное с.ч с точностью 1%\n",
    "\n",
    "n = 10\n",
    "a = np.random.normal(0,1,(n,n))\n",
    "A = a @ a.T\n",
    "A\n",
    "N = 0\n",
    "lmin = np.linalg.eigvalsh(A).min()\n",
    "for i in range(1024):\n",
    "    q,r = np.linalg.qr(A)\n",
    "    A = r @ q\n",
    "    N+=1\n",
    "    if (100*np.abs(A.diagonal().min()/lmin - 1) < 1):\n",
    "        break"
   ]
  },
  {
   "cell_type": "code",
   "execution_count": 81,
   "metadata": {},
   "outputs": [
    {
     "data": {
      "text/plain": [
       "2"
      ]
     },
     "execution_count": 81,
     "metadata": {},
     "output_type": "execute_result"
    }
   ],
   "source": [
    "N"
   ]
  },
  {
   "cell_type": "code",
   "execution_count": 82,
   "metadata": {},
   "outputs": [
    {
     "data": {
      "text/plain": [
       "array([2.29000434e+01, 1.67952664e+01, 1.89549164e+01, 1.23774579e+01,\n",
       "       4.57917699e+00, 5.89747053e+00, 2.81074117e+00, 2.60216766e+00,\n",
       "       3.39367763e-01, 1.96141361e-03])"
      ]
     },
     "execution_count": 82,
     "metadata": {},
     "output_type": "execute_result"
    }
   ],
   "source": [
    "np.diag(A)"
   ]
  },
  {
   "cell_type": "code",
   "execution_count": 71,
   "metadata": {},
   "outputs": [
    {
     "data": {
      "text/plain": [
       "array([1.00740911e-05, 1.58644317e-01, 1.04184768e+00, 3.15657543e+00,\n",
       "       4.64328199e+00, 8.81308348e+00, 1.05036159e+01, 1.43588189e+01,\n",
       "       1.53238911e+01, 2.40638838e+01])"
      ]
     },
     "execution_count": 71,
     "metadata": {},
     "output_type": "execute_result"
    }
   ],
   "source": [
    "np.linalg.eigvalsh(A)"
   ]
  },
  {
   "cell_type": "code",
   "execution_count": null,
   "metadata": {},
   "outputs": [],
   "source": []
  }
 ],
 "metadata": {
  "kernelspec": {
   "display_name": "Python 3",
   "language": "python",
   "name": "python3"
  },
  "language_info": {
   "codemirror_mode": {
    "name": "ipython",
    "version": 3
   },
   "file_extension": ".py",
   "mimetype": "text/x-python",
   "name": "python",
   "nbconvert_exporter": "python",
   "pygments_lexer": "ipython3",
   "version": "3.8.3"
  }
 },
 "nbformat": 4,
 "nbformat_minor": 4
}
