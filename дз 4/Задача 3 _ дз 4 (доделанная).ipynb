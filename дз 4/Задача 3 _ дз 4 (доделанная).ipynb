{
 "cells": [
  {
   "cell_type": "markdown",
   "metadata": {},
   "source": [
    "\n",
    "Рассмотрим матрицу\n",
    "\\begin{equation}\n",
    "A = \n",
    "\\begin{Vmatrix}\n",
    "0 & 1\\\\\n",
    "0 & 0\n",
    "\\end{Vmatrix}\n",
    "\\end{equation}\n",
    "\n",
    "Найти спектр матрицы A. Пусть $\\sigma_{\\epsilon}$ множество комплексных чисел z, что z является собственным значением матрицы $A + \\delta A$ с некоторым $||\\delta A||_2 < \\epsilon $. Изобразите  $\\sigma_{0.1}$ и $\\sigma_{0.01}$ \n",
    "\n"
   ]
  },
  {
   "cell_type": "markdown",
   "metadata": {},
   "source": [
    "Матрица А имеет вид жордановой клетки, поэтому ее собственные числа - 0. Характеристическое уравнение\n",
    "\\begin{equation}\n",
    "det(A-\\lambda E) = \\lambda ^2 = 0 \n",
    "\\end{equation}\n"
   ]
  },
  {
   "cell_type": "markdown",
   "metadata": {},
   "source": [
    "Условие задачи эквивалентно \n",
    "\\begin{equation}\n",
    "||(A - z E )^{-1} ||_2 \\geq \\epsilon^{-1}\n",
    "\\end{equation}"
   ]
  },
  {
   "cell_type": "code",
   "execution_count": 15,
   "metadata": {},
   "outputs": [
    {
     "name": "stdout",
     "output_type": "stream",
     "text": [
      "[0. 0.]\n"
     ]
    },
    {
     "data": {
      "text/plain": [
       "<matplotlib.collections.PathCollection at 0x22b80b3e370>"
      ]
     },
     "execution_count": 15,
     "metadata": {},
     "output_type": "execute_result"
    },
    {
     "data": {
      "image/png": "[encoded data removed]",
      "text/plain": [
       "<Figure size 288x288 with 1 Axes>"
      ]
     },
     "metadata": {
      "needs_background": "light"
     },
     "output_type": "display_data"
    }
   ],
   "source": [
    "# Пункт 1\n",
    "import numpy as np\n",
    "import matplotlib.pyplot as plt \n",
    "%matplotlib inline\n",
    "\n",
    "A = np.array([[0,1],[0,0]]) #вводим данную матрицу\n",
    "epsilon = 0.1 #определяем эпсилон, также из условия\n",
    "L = np.linalg.eigvalsh(A)\n",
    "print(L)\n",
    "Re = []\n",
    "Im = []\n",
    "sigma = [] # множество сигма \n",
    "for x in np.arange(-1,1,0.01):\n",
    "    for y in np.arange(-1,1,0.01):\n",
    "        z = complex(x,y) \n",
    "        Avozm = ([[z,-1],[0,z]]) #возмущенная матрица\n",
    "        Rev = np.linalg.inv(Avozm)\n",
    "        if np.linalg.norm(Rev) > (1/epsilon):\n",
    "            Re.append(x)\n",
    "            Im.append(y)\n",
    "            sigma.append(z)\n",
    "\n",
    "fig = plt.gcf()\n",
    "fig.set_size_inches(4, 4)\n",
    "plt.grid(axis = 'both')\n",
    "\n",
    "plt.scatter(Re,Im)"
   ]
  },
  {
   "cell_type": "code",
   "execution_count": 24,
   "metadata": {},
   "outputs": [
    {
     "data": {
      "text/plain": [
       "<matplotlib.collections.PathCollection at 0x22b81f5ed00>"
      ]
     },
     "execution_count": 24,
     "metadata": {},
     "output_type": "execute_result"
    },
    {
     "data": {
      "image/png": "[encoded data removed]",
      "text/plain": [
       "<Figure size 288x288 with 1 Axes>"
      ]
     },
     "metadata": {
      "needs_background": "light"
     },
     "output_type": "display_data"
    }
   ],
   "source": [
    "# Пункт 2\n",
    "epsilon = 0.01 \n",
    "Re = []\n",
    "Im = []\n",
    "sigma = [] # множество сигма \n",
    "for x in np.arange(-1,1,0.01):\n",
    "    for y in np.arange(-1,1,0.01):\n",
    "        z = complex(x,y) \n",
    "        Avozm = ([[z,-1],[0,z]]) #возмущенная матрица\n",
    "        Rev = np.linalg.inv(Avozm)\n",
    "        if np.linalg.norm(Rev) > (1/epsilon):\n",
    "            Re.append(x)\n",
    "            Im.append(y)\n",
    "            sigma.append(z)\n",
    "\n",
    "fig = plt.gcf()\n",
    "fig.set_size_inches(4, 4)\n",
    "plt.grid(axis = 'both')\n",
    "\n",
    "plt.scatter(Re,Im)"
   ]
  }
 ],
 "metadata": {
  "kernelspec": {
   "display_name": "Python 3",
   "language": "python",
   "name": "python3"
  },
  "language_info": {
   "codemirror_mode": {
    "name": "ipython",
    "version": 3
   },
   "file_extension": ".py",
   "mimetype": "text/x-python",
   "name": "python",
   "nbconvert_exporter": "python",
   "pygments_lexer": "ipython3",
   "version": "3.8.3"
  }
 },
 "nbformat": 4,
 "nbformat_minor": 4
}
