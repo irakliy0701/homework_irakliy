{
 "cells": [
  {
   "cell_type": "code",
   "execution_count": 1,
   "metadata": {},
   "outputs": [],
   "source": [
    "import numpy as np\n",
    "from numpy import linalg as LA\n",
    "import matplotlib.pyplot as plt\n",
    "\n",
    "# Генерируем случайную симетричную матрицу\n",
    "n = 1000\n",
    "a = np.random.normal(0, 1, (n,n))\n",
    "A = a + a.T"
   ]
  },
  {
   "cell_type": "code",
   "execution_count": 2,
   "metadata": {},
   "outputs": [
    {
     "data": {
      "text/plain": [
       "array([[-1.1732244 ,  1.30099168, -1.74352747, ...,  1.37704298,\n",
       "        -1.98085841, -0.70488346],\n",
       "       [ 1.30099168, -1.36914648,  4.53412376, ...,  2.64877759,\n",
       "         2.06520165,  0.21012633],\n",
       "       [-1.74352747,  4.53412376,  1.16314369, ...,  0.23045438,\n",
       "         0.02725449, -1.59394401],\n",
       "       ...,\n",
       "       [ 1.37704298,  2.64877759,  0.23045438, ..., -0.81364099,\n",
       "         2.50113344, -1.91530706],\n",
       "       [-1.98085841,  2.06520165,  0.02725449, ...,  2.50113344,\n",
       "         1.57072853,  1.6968859 ],\n",
       "       [-0.70488346,  0.21012633, -1.59394401, ..., -1.91530706,\n",
       "         1.6968859 , -3.41818712]])"
      ]
     },
     "execution_count": 2,
     "metadata": {},
     "output_type": "execute_result"
    }
   ],
   "source": [
    "A"
   ]
  },
  {
   "cell_type": "code",
   "execution_count": 3,
   "metadata": {},
   "outputs": [],
   "source": [
    "l = LA.linalg.eigvalsh(A)"
   ]
  },
  {
   "cell_type": "code",
   "execution_count": 4,
   "metadata": {},
   "outputs": [
    {
     "data": {
      "text/plain": [
       "(array([0.00290181, 0.00507817, 0.00613844, 0.00675229, 0.00714292,\n",
       "        0.0069197 , 0.0069197 , 0.00608264, 0.00496656, 0.00290181]),\n",
       " array([-8.95217711e+01, -7.16019204e+01, -5.36820696e+01, -3.57622189e+01,\n",
       "        -1.78423681e+01,  7.74826091e-02,  1.79973334e+01,  3.59171841e+01,\n",
       "         5.38370348e+01,  7.17568856e+01,  8.96767363e+01]),\n",
       " <a list of 10 Patch objects>)"
      ]
     },
     "execution_count": 4,
     "metadata": {},
     "output_type": "execute_result"
    },
    {
     "data": {
      "image/png": "[encoded data removed]",
      "text/plain": [
       "<Figure size 432x288 with 1 Axes>"
      ]
     },
     "metadata": {
      "needs_background": "light"
     },
     "output_type": "display_data"
    }
   ],
   "source": [
    "plt.hist(l, density = True)"
   ]
  },
  {
   "cell_type": "code",
   "execution_count": null,
   "metadata": {},
   "outputs": [],
   "source": []
  }
 ],
 "metadata": {
  "kernelspec": {
   "display_name": "Python 3",
   "language": "python",
   "name": "python3"
  },
  "language_info": {
   "codemirror_mode": {
    "name": "ipython",
    "version": 3
   },
   "file_extension": ".py",
   "mimetype": "text/x-python",
   "name": "python",
   "nbconvert_exporter": "python",
   "pygments_lexer": "ipython3",
   "version": "3.8.3"
  }
 },
 "nbformat": 4,
 "nbformat_minor": 4
}
