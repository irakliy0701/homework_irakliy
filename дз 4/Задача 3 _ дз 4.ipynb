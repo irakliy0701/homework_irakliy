{
 "cells": [
  {
   "cell_type": "code",
   "execution_count": 10,
   "metadata": {},
   "outputs": [],
   "source": [
    "import numpy as np\n",
    "from numpy import linalg as LA\n",
    "import matplotlib.pyplot as plt\n",
    "import math"
   ]
  },
  {
   "cell_type": "markdown",
   "metadata": {},
   "source": [
    " Рассмотрим матрицу\n",
    "\\begin{equation}\n",
    "A = \n",
    "\\begin{Vmatrix}\n",
    "0 & 1\\\\\n",
    "0 & 0\n",
    "\\end{Vmatrix}\n",
    "\\end{equation}\n",
    "\n",
    "Найти спектр матрицы A. Пусть $\\sigma_{\\epsilon}$ множество комплексных чисел z, что z является собственным значением матрицы $A + \\delta A$ с некоторым $||\\delta A||_2 < \\epsilon $. Изобразите  $\\sigma_{0.1}$ и $\\sigma_{0.01}$ "
   ]
  },
  {
   "cell_type": "markdown",
   "metadata": {},
   "source": [
    " Матрица А имеет вид жордановой клетки, поэтому ее собственные числа - 0. Характеристическое уравнение\n",
    "\\begin{equation}\n",
    "det(A-\\lambda E) = \\lambda ^2 = 0 \n",
    "\\end{equation}\n"
   ]
  },
  {
   "cell_type": "markdown",
   "metadata": {},
   "source": [
    "Условие задачи эквивалентно \n",
    "\\begin{equation}\n",
    "||(A - z E )^{-1} ||_2 \\geq \\epsilon^{-1}\n",
    "\\end{equation}\n",
    "\\begin{equation}\n",
    "||(A - z E )^{-1} ||_2 = \\sqrt{   \\lambda_{max} ( (A^* - z^* E)^{-1} (A-zE)^{-1} )   }\n",
    "\\end{equation}\n",
    "\\begin{equation}\n",
    "(A - z E )^{-1} =\n",
    "\\begin{Vmatrix}\n",
    "-1/z & -1/z^2 \\\\\n",
    "0 & -1/z\n",
    "\\end{Vmatrix}\n",
    "\\end{equation}\n",
    "\\begin{equation}\n",
    "(A^* - z^* E)^{-1} (A-zE)^{-1} ) = \n",
    "\\begin{Vmatrix}\n",
    "-1/z^* & 0 \\\\\n",
    "-1/z^{*2} & -1/z^*\n",
    "\\end{Vmatrix}\n",
    "\\begin{Vmatrix}\n",
    "-1/z & -1/z^2 \\\\\n",
    "0 & -1/z\n",
    "\\end{Vmatrix} =\n",
    "\\begin{Vmatrix}\n",
    "1/|z|^2 & 1/|z|^2 z\\\\\n",
    "1/|z|^2 z^* & 1/|z|^4 + 1/|z|^2\n",
    "\\end{Vmatrix}\n",
    "\\end{equation}\n",
    "\n",
    "Характеристическое уравнение\n",
    "\\begin{equation}\n",
    "\\lambda^2 - (1/|z|^4 + 2/|z|^2 ) \\lambda + 1/|z|^4 = \n",
    "\\end{equation}\n",
    "Максимальное собственное значение\n",
    "\\begin{equation}\n",
    "\\lambda = \\frac{1/|z|^4 + 2/|z|^2 + \\sqrt{1/|z|^8 + 4/|z|^6}}{2}\n",
    "\\end{equation}\n",
    "\n",
    "Уравнение, определяющее область $\\sigma_{\\epsilon}$\n",
    "\\begin{equation}\n",
    "\\sqrt{1 + 2|z|^2 + \\sqrt{1+4|z|^4}} > \\sqrt{2}|z|^2 / \\epsilon\n",
    "\\end{equation}\n",
    "В качестве численного решения используем метод Ньютона:\n",
    "\\begin{gather}\n",
    "t_{k+1} = t_k - f(t_k)/f'(t_k)\\\\\n",
    "f(t) = 1 + 2 t + \\sqrt{1+4t} - \\frac{2 t^2}{\\epsilon^2} \\\\\n",
    "f'(t) = 2 + \\frac{2}{\\sqrt{1+4t}} - \\frac{4 t}{\\epsilon^2}\n",
    "\\end{gather}\n",
    "Предельная точка $ t^* = |z|_{max}^2 $, начальная точка $t_0 = max(\\epsilon, \\epsilon^2)$ "
   ]
  },
  {
   "cell_type": "code",
   "execution_count": 7,
   "metadata": {},
   "outputs": [],
   "source": [
    "def f(x, epsilon):\n",
    "  return 1 + 2*x + np.sqrt(1+4*x) - 2*(x/epsilon)**2\n",
    "def der(x,epsilon):\n",
    "  return 2 + 2/np.sqrt(1+4*x) - 4*x / (epsilon**2)"
   ]
  },
  {
   "cell_type": "code",
   "execution_count": 8,
   "metadata": {},
   "outputs": [
    {
     "name": "stdout",
     "output_type": "stream",
     "text": [
      "0.1\n",
      "0.10050126889040527\n",
      "0.1004987562746575\n",
      "Радиус множества = 0.1005\n"
     ]
    },
    {
     "data": {
      "image/png": "[encoded data removed]",
      "text/plain": [
       "<Figure size 360x360 with 1 Axes>"
      ]
     },
     "metadata": {
      "needs_background": "light"
     },
     "output_type": "display_data"
    }
   ],
   "source": [
    "eps = 0.01\n",
    "t = max(eps,eps**2)\n",
    "for i in range(20):\n",
    "  s = t - f(t,eps)/der(t,eps)\n",
    "  print(np.sqrt(t))\n",
    "  if (np.abs(np.sqrt(s/t) - 1)<0.00001):\n",
    "    break\n",
    "  t = s\n",
    "t = s\n",
    "import matplotlib.pyplot as plt\n",
    "\n",
    "fi = np.linspace(0, 2*np.pi, 100)\n",
    "\n",
    "x = np.sqrt(t)*np.sin(fi)\n",
    "y = np.sqrt(t)*np.cos(fi)\n",
    "\n",
    "fig, ax = plt.subplots(figsize=(5,5))\n",
    "ax.fill(x, y)\n",
    "ax.set_title(r\"$\\epsilon=$\"+f\"{eps}\")\n",
    "\n",
    "print(\"Радиус множества = \"+f\"{np.sqrt(t).round(5)}\")"
   ]
  },
  {
   "cell_type": "code",
   "execution_count": 9,
   "metadata": {},
   "outputs": [
    {
     "name": "stdout",
     "output_type": "stream",
     "text": [
      "0.31622776601683794\n",
      "0.3324967603438706\n",
      "0.3316647747400709\n",
      "Радиус множества = 0.33166\n"
     ]
    },
    {
     "data": {
      "image/png": "[encoded data removed]",
      "text/plain": [
       "<Figure size 360x360 with 1 Axes>"
      ]
     },
     "metadata": {
      "needs_background": "light"
     },
     "output_type": "display_data"
    }
   ],
   "source": [
    "eps = 0.1\n",
    "t = max(eps,eps**2)\n",
    "for i in range(20):\n",
    "  s = t - f(t,eps)/der(t,eps)\n",
    "  print(np.sqrt(t))\n",
    "  if (np.abs(np.sqrt(s/t) - 1)<0.00001):\n",
    "    break\n",
    "  t = s\n",
    "t = s\n",
    "import matplotlib.pyplot as plt\n",
    "\n",
    "fi = np.linspace(0, 2*np.pi, 100)\n",
    "\n",
    "x = np.sqrt(t)*np.sin(fi)\n",
    "y = np.sqrt(t)*np.cos(fi)\n",
    "\n",
    "fig, ax = plt.subplots(figsize=(5,5))\n",
    "ax.fill(x, y)\n",
    "ax.set_title(r\"$\\epsilon=$\"+f\"{eps}\")\n",
    "\n",
    "print(\"Радиус множества = \"+f\"{np.sqrt(t).round(5)}\")"
   ]
  }
 ],
 "metadata": {
  "kernelspec": {
   "display_name": "Python 3",
   "language": "python",
   "name": "python3"
  },
  "language_info": {
   "codemirror_mode": {
    "name": "ipython",
    "version": 3
   },
   "file_extension": ".py",
   "mimetype": "text/x-python",
   "name": "python",
   "nbconvert_exporter": "python",
   "pygments_lexer": "ipython3",
   "version": "3.8.3"
  }
 },
 "nbformat": 4,
 "nbformat_minor": 4
}
