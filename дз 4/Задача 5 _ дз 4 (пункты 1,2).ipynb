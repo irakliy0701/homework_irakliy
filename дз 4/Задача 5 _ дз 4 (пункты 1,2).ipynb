{
 "cells": [
  {
   "cell_type": "code",
   "execution_count": 2,
   "metadata": {},
   "outputs": [],
   "source": [
    "import numpy as np\n",
    "from numpy import linalg as LA\n",
    "import matplotlib.pyplot as plt\n",
    "import math"
   ]
  },
  {
   "cell_type": "markdown",
   "metadata": {},
   "source": [
    "Рассмотрим матрицу $A$ размера 32х32, задаваемую следующей формулой \n",
    "\\begin{equation}\n",
    "A_{ij} = - \\delta_{i,j} + \\delta_{i,j-1} + \\delta_{i,j-2}\n",
    "\\end{equation}"
   ]
  },
  {
   "cell_type": "markdown",
   "metadata": {},
   "source": [
    " Матрица имеет верхнетреугольный вид, поэтому спектр может состоять собственное число может равняться только $\\lambda = -1$. $Rg(A-\\lambda E) = 31$, значит существует одномерное собственное подпространство, натянутое на вектор $h = [0,0,0,...,0,1]^T$"
   ]
  },
  {
   "cell_type": "markdown",
   "metadata": {},
   "source": [
    " Используя функцию scipy.linalg.expm, построим $||e^{At}||_2$ как функцию $t$ на интервале $0 \\leq t \\leq 50$."
   ]
  },
  {
   "cell_type": "code",
   "execution_count": 3,
   "metadata": {},
   "outputs": [
    {
     "name": "stdout",
     "output_type": "stream",
     "text": [
      "[[-1.  1.  1. ...  0.  0.  0.]\n",
      " [ 0. -1.  1. ...  0.  0.  0.]\n",
      " [ 0.  0. -1. ...  0.  0.  0.]\n",
      " ...\n",
      " [ 0.  0.  0. ... -1.  1.  1.]\n",
      " [ 0.  0.  0. ...  0. -1.  1.]\n",
      " [ 0.  0.  0. ...  0.  0. -1.]]\n",
      "[-1. -1. -1. -1. -1. -1. -1. -1. -1. -1. -1. -1. -1. -1. -1. -1. -1. -1.\n",
      " -1. -1. -1. -1. -1. -1. -1. -1. -1. -1. -1. -1. -1. -1.]\n"
     ]
    },
    {
     "data": {
      "text/plain": [
       "[<matplotlib.lines.Line2D at 0x1f95c6e24c0>]"
      ]
     },
     "execution_count": 3,
     "metadata": {},
     "output_type": "execute_result"
    },
    {
     "data": {
      "image/png": "[encoded data removed]",
      "text/plain": [
       "<Figure size 432x288 with 1 Axes>"
      ]
     },
     "metadata": {
      "needs_background": "light"
     },
     "output_type": "display_data"
    }
   ],
   "source": [
    "# 1,2 пункты \n",
    "\n",
    "from scipy.linalg import expm\n",
    "#Задаем единичную наддиагональ B\n",
    "B = np.zeros((32,32))\n",
    "for i in range (31):\n",
    "   B[i,i+1]=1\n",
    " \n",
    "A = -np.eye(32) + B + B@B\n",
    "#Печатаем матрицу A\n",
    "print(A)\n",
    " \n",
    "### Собственные числа с учетом алгебраической кратностью. Заметим, что геометрическая кратность - 1\n",
    "L = LA.eigvalsh(A)\n",
    "print(L)\n",
    "\n",
    "\n",
    "norms = np.zeros(51)\n",
    "for t in range(50):\n",
    "   norms[t]=LA.norm(expm(A*t), ord=2)\n",
    "\n",
    "plt.plot(np.arange(51),norms)"
   ]
  }
 ],
 "metadata": {
  "kernelspec": {
   "display_name": "Python 3",
   "language": "python",
   "name": "python3"
  },
  "language_info": {
   "codemirror_mode": {
    "name": "ipython",
    "version": 3
   },
   "file_extension": ".py",
   "mimetype": "text/x-python",
   "name": "python",
   "nbconvert_exporter": "python",
   "pygments_lexer": "ipython3",
   "version": "3.8.3"
  }
 },
 "nbformat": 4,
 "nbformat_minor": 4
}
