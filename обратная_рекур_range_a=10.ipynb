{
 "cells": [
  {
   "cell_type": "code",
   "execution_count": 11,
   "metadata": {},
   "outputs": [],
   "source": [
    "import numpy as np\n",
    "import matplotlib.pyplot as plt\n",
    "%matplotlib inline"
   ]
  },
  {
   "cell_type": "code",
   "execution_count": 12,
   "metadata": {},
   "outputs": [],
   "source": [
    "N = 100\n",
    "a = np.zeros(N)"
   ]
  },
  {
   "cell_type": "code",
   "execution_count": 13,
   "metadata": {},
   "outputs": [],
   "source": [
    "for i in range(2,N):\n",
    "    a[N-i] = (1 - a[N-i+1]*(N-i+1))/(10*(N+i-1))"
   ]
  },
  {
   "cell_type": "code",
   "execution_count": 14,
   "metadata": {},
   "outputs": [
    {
     "data": {
      "text/plain": [
       "[<matplotlib.lines.Line2D at 0x1c18ced5130>]"
      ]
     },
     "execution_count": 14,
     "metadata": {},
     "output_type": "execute_result"
    },
    {
     "data": {
      "image/png": "[encoded data removed]",
      "text/plain": [
       "<Figure size 432x288 with 1 Axes>"
      ]
     },
     "metadata": {
      "needs_background": "light"
     },
     "output_type": "display_data"
    }
   ],
   "source": [
    "plt.plot(a[1:])"
   ]
  },
  {
   "cell_type": "code",
   "execution_count": 15,
   "metadata": {},
   "outputs": [
    {
     "data": {
      "text/plain": [
       "0.0005662087464504481"
      ]
     },
     "execution_count": 15,
     "metadata": {},
     "output_type": "execute_result"
    }
   ],
   "source": [
    "a[25]"
   ]
  },
  {
   "cell_type": "code",
   "execution_count": 16,
   "metadata": {},
   "outputs": [
    {
     "data": {
      "text/plain": [
       "array([0.        , 0.00050454, 0.00050684, 0.00050916, 0.0005115 ,\n",
       "       0.00051387, 0.00051625, 0.00051866, 0.00052109, 0.00052355,\n",
       "       0.00052602, 0.00052853, 0.00053105, 0.0005336 , 0.00053617,\n",
       "       0.00053877, 0.00054139, 0.00054404, 0.00054672, 0.00054942,\n",
       "       0.00055215, 0.0005549 , 0.00055769, 0.0005605 , 0.00056334,\n",
       "       0.00056621, 0.00056911, 0.00057203, 0.00057499, 0.00057798,\n",
       "       0.000581  , 0.00058405, 0.00058714, 0.00059026, 0.00059341,\n",
       "       0.00059659, 0.00059981, 0.00060306, 0.00060635, 0.00060967,\n",
       "       0.00061304, 0.00061643, 0.00061987, 0.00062335, 0.00062686,\n",
       "       0.00063041, 0.00063401, 0.00063764, 0.00064132, 0.00064504,\n",
       "       0.0006488 , 0.00065261, 0.00065646, 0.00066036, 0.00066431,\n",
       "       0.0006683 , 0.00067234, 0.00067643, 0.00068057, 0.00068476,\n",
       "       0.000689  , 0.00069329, 0.00069764, 0.00070205, 0.00070651,\n",
       "       0.00071102, 0.0007156 , 0.00072023, 0.00072493, 0.00072968,\n",
       "       0.0007345 , 0.00073938, 0.00074433, 0.00074934, 0.00075443,\n",
       "       0.00075958, 0.0007648 , 0.00077009, 0.00077546, 0.0007809 ,\n",
       "       0.00078643, 0.00079202, 0.0007977 , 0.00080346, 0.00080931,\n",
       "       0.00081524, 0.00082126, 0.00082736, 0.00083356, 0.00083985,\n",
       "       0.00084624, 0.00085273, 0.00085931, 0.000866  , 0.0008728 ,\n",
       "       0.00087961, 0.0008875 , 0.00088526, 0.0009901 , 0.        ])"
      ]
     },
     "execution_count": 16,
     "metadata": {},
     "output_type": "execute_result"
    }
   ],
   "source": [
    "a"
   ]
  },
  {
   "cell_type": "code",
   "execution_count": null,
   "metadata": {},
   "outputs": [],
   "source": []
  }
 ],
 "metadata": {
  "kernelspec": {
   "display_name": "Python 3",
   "language": "python",
   "name": "python3"
  },
  "language_info": {
   "codemirror_mode": {
    "name": "ipython",
    "version": 3
   },
   "file_extension": ".py",
   "mimetype": "text/x-python",
   "name": "python",
   "nbconvert_exporter": "python",
   "pygments_lexer": "ipython3",
   "version": "3.8.3"
  }
 },
 "nbformat": 4,
 "nbformat_minor": 4
}
