{
 "cells": [
  {
   "cell_type": "code",
   "execution_count": 2,
   "metadata": {},
   "outputs": [],
   "source": [
    "import numpy as np\n",
    "import matplotlib.pyplot as plt\n",
    "\n",
    "# ВЫвод матрицы смотри на отдельном листке\n",
    "A = np.array([[0.5, 1.5, 2.5, 3.5, 4.5, 5.5, 6.5, 7.5, 8.5, 9.5], [1,1,1,1,1,1,1,1,1,1]])\n",
    "u, s, vh = np.linalg.svd(A)"
   ]
  },
  {
   "cell_type": "code",
   "execution_count": 5,
   "metadata": {},
   "outputs": [
    {
     "data": {
      "text/plain": [
       "array([[18.44109698,  0.        ],\n",
       "       [ 0.        ,  1.55754364]])"
      ]
     },
     "execution_count": 5,
     "metadata": {},
     "output_type": "execute_result"
    }
   ],
   "source": [
    "np.diag(s)"
   ]
  },
  {
   "cell_type": "code",
   "execution_count": 6,
   "metadata": {},
   "outputs": [],
   "source": [
    "a = np.array([[1],[0]])"
   ]
  },
  {
   "cell_type": "code",
   "execution_count": 22,
   "metadata": {},
   "outputs": [
    {
     "name": "stdout",
     "output_type": "stream",
     "text": [
      "[[0.05422671 0.        ]\n",
      " [0.         0.64203659]\n",
      " [0.         0.        ]\n",
      " [0.         0.        ]\n",
      " [0.         0.        ]\n",
      " [0.         0.        ]\n",
      " [0.         0.        ]\n",
      " [0.         0.        ]\n",
      " [0.         0.        ]\n",
      " [0.         0.        ]]\n"
     ]
    }
   ],
   "source": [
    "sigma_pinv = np.zeros((10,2))\n",
    "sigma_pinv[0,0] = 1/s[0]\n",
    "sigma_pinv[1,1] = 1/s[1]\n",
    "print(sigma_pinv)"
   ]
  },
  {
   "cell_type": "code",
   "execution_count": 19,
   "metadata": {},
   "outputs": [
    {
     "name": "stdout",
     "output_type": "stream",
     "text": [
      "10\n"
     ]
    },
    {
     "data": {
      "text/plain": [
       "array([[-0.05454545],\n",
       "       [-0.04242424],\n",
       "       [-0.03030303],\n",
       "       [-0.01818182],\n",
       "       [-0.00606061],\n",
       "       [ 0.00606061],\n",
       "       [ 0.01818182],\n",
       "       [ 0.03030303],\n",
       "       [ 0.04242424],\n",
       "       [ 0.05454545]])"
      ]
     },
     "execution_count": 19,
     "metadata": {},
     "output_type": "execute_result"
    }
   ],
   "source": [
    "f_min1 = vh.T @ sigma_pinv @ u.T @ a\n",
    "print(len(f_min1))\n",
    "f_min1"
   ]
  },
  {
   "cell_type": "code",
   "execution_count": 20,
   "metadata": {},
   "outputs": [
    {
     "name": "stdout",
     "output_type": "stream",
     "text": [
      "10\n"
     ]
    },
    {
     "data": {
      "text/plain": [
       "array([[-0.05454545],\n",
       "       [-0.04242424],\n",
       "       [-0.03030303],\n",
       "       [-0.01818182],\n",
       "       [-0.00606061],\n",
       "       [ 0.00606061],\n",
       "       [ 0.01818182],\n",
       "       [ 0.03030303],\n",
       "       [ 0.04242424],\n",
       "       [ 0.05454545]])"
      ]
     },
     "execution_count": 20,
     "metadata": {},
     "output_type": "execute_result"
    }
   ],
   "source": [
    "# Проверка с помощью псевдоинверса\n",
    "\n",
    "A_pinv = np.linalg.pinv(A)\n",
    "f_min2 = A_pinv @ a\n",
    "print(len(f_min2))\n",
    "f_min2"
   ]
  },
  {
   "cell_type": "code",
   "execution_count": 21,
   "metadata": {},
   "outputs": [],
   "source": [
    "# Как и ожидалось ответ совпал"
   ]
  }
 ],
 "metadata": {
  "kernelspec": {
   "display_name": "Python 3",
   "language": "python",
   "name": "python3"
  },
  "language_info": {
   "codemirror_mode": {
    "name": "ipython",
    "version": 3
   },
   "file_extension": ".py",
   "mimetype": "text/x-python",
   "name": "python",
   "nbconvert_exporter": "python",
   "pygments_lexer": "ipython3",
   "version": "3.8.3"
  }
 },
 "nbformat": 4,
 "nbformat_minor": 4
}
