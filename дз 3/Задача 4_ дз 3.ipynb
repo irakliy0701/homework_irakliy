{
 "cells": [
  {
   "cell_type": "code",
   "execution_count": 803,
   "metadata": {},
   "outputs": [],
   "source": [
    "import numpy as np\n",
    "import matplotlib.pyplot as plt"
   ]
  },
  {
   "cell_type": "code",
   "execution_count": 804,
   "metadata": {},
   "outputs": [
    {
     "data": {
      "text/plain": [
       "<matplotlib.collections.PathCollection at 0x233c2aa0d30>"
      ]
     },
     "execution_count": 804,
     "metadata": {},
     "output_type": "execute_result"
    },
    {
     "data": {
      "image/png": "[encoded data removed]",
      "text/plain": [
       "<Figure size 432x288 with 1 Axes>"
      ]
     },
     "metadata": {
      "needs_background": "light"
     },
     "output_type": "display_data"
    }
   ],
   "source": [
    "# Пункт 1\n",
    "\n",
    "x = [-1, -0.7, -0.43, -0.14, -0.14, 0.43, 0.71, 1, 1.29, 1.57, 1.86, 2.14, 2.43, 2.71, 3]\n",
    "y = [-2.25, -0.77, 0.21, 0.44, 0.64, 0.03, -0.22, -0.84, -1.2, -1.03, -0.37, 0.61, 2.67, 5.04, 8.90]\n",
    "plt.scatter(x,y)"
   ]
  },
  {
   "cell_type": "code",
   "execution_count": 805,
   "metadata": {},
   "outputs": [
    {
     "data": {
      "text/plain": [
       "15"
      ]
     },
     "execution_count": 805,
     "metadata": {},
     "output_type": "execute_result"
    }
   ],
   "source": [
    "len(x) # len(x) = len(y) = 15"
   ]
  },
  {
   "cell_type": "code",
   "execution_count": 806,
   "metadata": {},
   "outputs": [],
   "source": [
    "# Пункт 1.1) Построим дизайн матрицу:\n",
    "\n",
    "n = len(x)\n",
    "m = 5 # положим такое значение m\n",
    "A = np.zeros((n,m))\n",
    "for i in range(n):\n",
    "    for k in range(m):\n",
    "        A[i,k] = (x[i])**k"
   ]
  },
  {
   "cell_type": "code",
   "execution_count": 807,
   "metadata": {},
   "outputs": [
    {
     "data": {
      "text/plain": [
       "array([[ 1.00000000e+00, -1.00000000e+00,  1.00000000e+00,\n",
       "        -1.00000000e+00,  1.00000000e+00],\n",
       "       [ 1.00000000e+00, -7.00000000e-01,  4.90000000e-01,\n",
       "        -3.43000000e-01,  2.40100000e-01],\n",
       "       [ 1.00000000e+00, -4.30000000e-01,  1.84900000e-01,\n",
       "        -7.95070000e-02,  3.41880100e-02],\n",
       "       [ 1.00000000e+00, -1.40000000e-01,  1.96000000e-02,\n",
       "        -2.74400000e-03,  3.84160000e-04],\n",
       "       [ 1.00000000e+00, -1.40000000e-01,  1.96000000e-02,\n",
       "        -2.74400000e-03,  3.84160000e-04],\n",
       "       [ 1.00000000e+00,  4.30000000e-01,  1.84900000e-01,\n",
       "         7.95070000e-02,  3.41880100e-02],\n",
       "       [ 1.00000000e+00,  7.10000000e-01,  5.04100000e-01,\n",
       "         3.57911000e-01,  2.54116810e-01],\n",
       "       [ 1.00000000e+00,  1.00000000e+00,  1.00000000e+00,\n",
       "         1.00000000e+00,  1.00000000e+00],\n",
       "       [ 1.00000000e+00,  1.29000000e+00,  1.66410000e+00,\n",
       "         2.14668900e+00,  2.76922881e+00],\n",
       "       [ 1.00000000e+00,  1.57000000e+00,  2.46490000e+00,\n",
       "         3.86989300e+00,  6.07573201e+00],\n",
       "       [ 1.00000000e+00,  1.86000000e+00,  3.45960000e+00,\n",
       "         6.43485600e+00,  1.19688322e+01],\n",
       "       [ 1.00000000e+00,  2.14000000e+00,  4.57960000e+00,\n",
       "         9.80034400e+00,  2.09727362e+01],\n",
       "       [ 1.00000000e+00,  2.43000000e+00,  5.90490000e+00,\n",
       "         1.43489070e+01,  3.48678440e+01],\n",
       "       [ 1.00000000e+00,  2.71000000e+00,  7.34410000e+00,\n",
       "         1.99025110e+01,  5.39358048e+01],\n",
       "       [ 1.00000000e+00,  3.00000000e+00,  9.00000000e+00,\n",
       "         2.70000000e+01,  8.10000000e+01]])"
      ]
     },
     "execution_count": 807,
     "metadata": {},
     "output_type": "execute_result"
    }
   ],
   "source": [
    "A"
   ]
  },
  {
   "cell_type": "code",
   "execution_count": 808,
   "metadata": {},
   "outputs": [
    {
     "name": "stdout",
     "output_type": "stream",
     "text": [
      "5 [ 0.51184244 -0.33857023 -2.05689291  1.08931365 -0.01872316]\n"
     ]
    }
   ],
   "source": [
    "# Пункт 1.2) и 1.3) (постороим нормальную систему уравнений и решим ее)\n",
    "\n",
    "b = A.T @ y\n",
    "a = np.linalg.solve (A.T @ A, b)\n",
    "print(len(a),a)"
   ]
  },
  {
   "cell_type": "code",
   "execution_count": 809,
   "metadata": {},
   "outputs": [
    {
     "data": {
      "text/plain": [
       "array([ 0.51184244, -0.33857023, -2.05689291,  1.08931365, -0.01872316])"
      ]
     },
     "execution_count": 809,
     "metadata": {},
     "output_type": "execute_result"
    }
   ],
   "source": [
    "# Проверим ответ с помощью псевдообратной матрицы\n",
    "A_pinv = np.linalg.pinv(A)                                    \n",
    "a = A_pinv @ y\n",
    "a"
   ]
  },
  {
   "cell_type": "code",
   "execution_count": 810,
   "metadata": {},
   "outputs": [
    {
     "data": {
      "text/plain": [
       "array([-0.06451705,  0.13283406, -0.02014003,  0.0759309 , -0.1240691 ,\n",
       "        0.04190569, -0.16030267,  0.02696979,  0.13878027,  0.04202222,\n",
       "       -0.07844275,  0.04052803, -0.14900603,  0.11851825, -0.02101161])"
      ]
     },
     "execution_count": 810,
     "metadata": {},
     "output_type": "execute_result"
    }
   ],
   "source": [
    "A@a - y # Проверка минимизации нормы"
   ]
  },
  {
   "cell_type": "code",
   "execution_count": 827,
   "metadata": {},
   "outputs": [
    {
     "data": {
      "text/plain": [
       "array([ 0.51184244, -0.33857023, -2.05689291,  1.08931365, -0.01872316])"
      ]
     },
     "execution_count": 827,
     "metadata": {},
     "output_type": "execute_result"
    }
   ],
   "source": [
    "# Пункт 3 (решение задачи с помощью QR разложения)\n",
    "q, r = np.linalg.qr(A)\n",
    "a = np.linalg.inv(r) @ q.T @ y\n",
    "a"
   ]
  },
  {
   "cell_type": "code",
   "execution_count": 811,
   "metadata": {},
   "outputs": [
    {
     "data": {
      "text/plain": [
       "(-5.0, 10.0)"
      ]
     },
     "execution_count": 811,
     "metadata": {},
     "output_type": "execute_result"
    },
    {
     "data": {
      "image/png": "[encoded data removed]",
      "text/plain": [
       "<Figure size 432x288 with 1 Axes>"
      ]
     },
     "metadata": {
      "needs_background": "light"
     },
     "output_type": "display_data"
    }
   ],
   "source": [
    "xp = np.linspace(-1,3)\n",
    "P_m = 0\n",
    "for i in range(m):\n",
    "    P_m = P_m + a[i]*(xp**i)\n",
    "plt.scatter(x,y)\n",
    "plt.plot(xp,P_m, color = 'red')\n",
    "plt.xlim(-3,5)\n",
    "plt.ylim(-5,10)"
   ]
  },
  {
   "cell_type": "code",
   "execution_count": 828,
   "metadata": {},
   "outputs": [
    {
     "data": {
      "image/png": "[encoded data removed]",
      "text/plain": [
       "<Figure size 432x288 with 1 Axes>"
      ]
     },
     "metadata": {
      "needs_background": "light"
     },
     "output_type": "display_data"
    }
   ],
   "source": [
    "#Пункт 2 (найдем оптимальное значение m)\n",
    "\n",
    "P_m = 0\n",
    "S_0 = 0\n",
    "for m in range(1,15):\n",
    "    A = np.zeros((n,m))\n",
    "    for i in range(n):\n",
    "        for k in range(m):\n",
    "            A[i,k] = (x[i])**k\n",
    "    b = A.T @ y\n",
    "    a = np.linalg.solve (A.T @ A, b)\n",
    "    P_m = P_m + a[m-1]*((x[m-1])**(m-1))\n",
    "    #print(P_m,a[0])\n",
    "    for c in range(n):\n",
    "        g_c = (1/(n-m))*(S_0 + (P_m - y[c-1])**2)\n",
    "        S_0 = (P_m - y[c-1])**2\n",
    "        #print(g_c)\n",
    "    plt.scatter(m,g_c)\n",
    "    plt.xlim(0,14)\n",
    "    plt.ylim(0,9)"
   ]
  },
  {
   "cell_type": "code",
   "execution_count": 829,
   "metadata": {},
   "outputs": [],
   "source": [
    "# Вывод: лучшее приближение будет при m э [4,7]"
   ]
  }
 ],
 "metadata": {
  "kernelspec": {
   "display_name": "Python 3",
   "language": "python",
   "name": "python3"
  },
  "language_info": {
   "codemirror_mode": {
    "name": "ipython",
    "version": 3
   },
   "file_extension": ".py",
   "mimetype": "text/x-python",
   "name": "python",
   "nbconvert_exporter": "python",
   "pygments_lexer": "ipython3",
   "version": "3.8.3"
  }
 },
 "nbformat": 4,
 "nbformat_minor": 4
}
