{
 "cells": [
  {
   "cell_type": "code",
   "execution_count": 26,
   "metadata": {},
   "outputs": [],
   "source": [
    "import numpy as np\n",
    "import matplotlib.pyplot as plt\n",
    "\n",
    "# ВЫвод матрицы смотри на отдельном листке\n",
    "A = np.array([[0.5, 1.5, 2.5, 3.5, 4.5, 5.5, 6.5, 7.5, 8.5, 9.5], [1,1,1,1,1,1,1,1,1,1]])\n",
    "u, s, vh = np.linalg.svd(A)"
   ]
  },
  {
   "cell_type": "code",
   "execution_count": 27,
   "metadata": {},
   "outputs": [
    {
     "data": {
      "text/plain": [
       "array([[ 3.49291999e-02,  8.85442578e-02,  1.42159316e-01,\n",
       "         1.95774374e-01,  2.49389431e-01,  3.03004489e-01,\n",
       "         3.56619547e-01,  4.10234605e-01,  4.63849663e-01,\n",
       "         5.17464721e-01],\n",
       "       [ 5.86715004e-01,  4.90555566e-01,  3.94396127e-01,\n",
       "         2.98236688e-01,  2.02077249e-01,  1.05917810e-01,\n",
       "         9.75837106e-03, -8.64010678e-02, -1.82560507e-01,\n",
       "        -2.78719946e-01],\n",
       "       [-2.48175055e-01, -3.37706588e-01,  8.96955410e-01,\n",
       "        -8.83932201e-02, -7.37418499e-02, -5.90904797e-02,\n",
       "        -4.44391095e-02, -2.97877392e-02, -1.51363690e-02,\n",
       "        -4.84998777e-04],\n",
       "       [-2.58702170e-01, -2.11745278e-01, -7.65510952e-02,\n",
       "         9.26408055e-01, -7.06327945e-02, -6.76736442e-02,\n",
       "        -6.47144938e-02, -6.17553435e-02, -5.87961932e-02,\n",
       "        -5.58370428e-02],\n",
       "       [-2.69229285e-01, -8.57839677e-02, -5.00576000e-02,\n",
       "        -5.87906695e-02,  9.32476261e-01, -7.62568086e-02,\n",
       "        -8.49898782e-02, -9.37229478e-02, -1.02456017e-01,\n",
       "        -1.11189087e-01],\n",
       "       [-2.79756400e-01,  4.01773426e-02, -2.35641048e-02,\n",
       "        -4.39893942e-02, -6.44146837e-02,  9.15160027e-01,\n",
       "        -1.05265263e-01, -1.25690552e-01, -1.46115841e-01,\n",
       "        -1.66541131e-01],\n",
       "       [-2.90283515e-01,  1.66138653e-01,  2.92939045e-03,\n",
       "        -2.91881189e-02, -6.13056282e-02, -9.34231376e-02,\n",
       "         8.74459353e-01, -1.57658156e-01, -1.89775666e-01,\n",
       "        -2.21893175e-01],\n",
       "       [-3.00810630e-01,  2.92099963e-01,  2.94228857e-02,\n",
       "        -1.43868436e-02, -5.81965728e-02, -1.02006302e-01,\n",
       "        -1.45816031e-01,  8.10374239e-01, -2.33435490e-01,\n",
       "        -2.77245219e-01],\n",
       "       [-3.11337745e-01,  4.18061274e-01,  5.59163809e-02,\n",
       "         4.14431721e-04, -5.50875174e-02, -1.10589467e-01,\n",
       "        -1.66091416e-01, -2.21593365e-01,  7.22904686e-01,\n",
       "        -3.32597263e-01],\n",
       "       [-3.21864860e-01,  5.44022584e-01,  8.24098761e-02,\n",
       "         1.52157070e-02, -5.19784620e-02, -1.19172631e-01,\n",
       "        -1.86366800e-01, -2.53560969e-01, -3.20755138e-01,\n",
       "         6.12050693e-01]])"
      ]
     },
     "execution_count": 27,
     "metadata": {},
     "output_type": "execute_result"
    }
   ],
   "source": [
    "vh"
   ]
  },
  {
   "cell_type": "code",
   "execution_count": 28,
   "metadata": {},
   "outputs": [
    {
     "data": {
      "text/plain": [
       "array([[18.44109698,  0.        ],\n",
       "       [ 0.        ,  1.55754364]])"
      ]
     },
     "execution_count": 28,
     "metadata": {},
     "output_type": "execute_result"
    }
   ],
   "source": [
    "np.diag(s)"
   ]
  },
  {
   "cell_type": "code",
   "execution_count": 29,
   "metadata": {},
   "outputs": [],
   "source": [
    "a = np.array([[1],[0]])"
   ]
  },
  {
   "cell_type": "code",
   "execution_count": 30,
   "metadata": {},
   "outputs": [
    {
     "name": "stdout",
     "output_type": "stream",
     "text": [
      "[[0.05422671 0.        ]\n",
      " [0.         0.64203659]\n",
      " [0.         0.        ]\n",
      " [0.         0.        ]\n",
      " [0.         0.        ]\n",
      " [0.         0.        ]\n",
      " [0.         0.        ]\n",
      " [0.         0.        ]\n",
      " [0.         0.        ]\n",
      " [0.         0.        ]]\n"
     ]
    }
   ],
   "source": [
    "sigma_pinv = np.zeros((10,2))\n",
    "sigma_pinv[0,0] = 1/s[0]\n",
    "sigma_pinv[1,1] = 1/s[1]\n",
    "print(sigma_pinv)"
   ]
  },
  {
   "cell_type": "code",
   "execution_count": 69,
   "metadata": {},
   "outputs": [
    {
     "name": "stdout",
     "output_type": "stream",
     "text": [
      "10\n"
     ]
    },
    {
     "data": {
      "text/plain": [
       "array([[-0.05454545],\n",
       "       [-0.04242424],\n",
       "       [-0.03030303],\n",
       "       [-0.01818182],\n",
       "       [-0.00606061],\n",
       "       [ 0.00606061],\n",
       "       [ 0.01818182],\n",
       "       [ 0.03030303],\n",
       "       [ 0.04242424],\n",
       "       [ 0.05454545]])"
      ]
     },
     "execution_count": 69,
     "metadata": {},
     "output_type": "execute_result"
    }
   ],
   "source": [
    "f_min1 = vh.T @ sigma_pinv @ u.T @ a\n",
    "print(len(f_min1))\n",
    "f_min1"
   ]
  },
  {
   "cell_type": "code",
   "execution_count": 70,
   "metadata": {},
   "outputs": [
    {
     "name": "stdout",
     "output_type": "stream",
     "text": [
      "10\n"
     ]
    },
    {
     "data": {
      "text/plain": [
       "array([[-0.05454545],\n",
       "       [-0.04242424],\n",
       "       [-0.03030303],\n",
       "       [-0.01818182],\n",
       "       [-0.00606061],\n",
       "       [ 0.00606061],\n",
       "       [ 0.01818182],\n",
       "       [ 0.03030303],\n",
       "       [ 0.04242424],\n",
       "       [ 0.05454545]])"
      ]
     },
     "execution_count": 70,
     "metadata": {},
     "output_type": "execute_result"
    }
   ],
   "source": [
    "# Проверка с помощью псевдоинверса\n",
    "\n",
    "A_pinv = np.linalg.pinv(A)\n",
    "f_min2 = A_pinv @ a\n",
    "print(len(f_min2))\n",
    "f_min2"
   ]
  },
  {
   "cell_type": "code",
   "execution_count": 71,
   "metadata": {},
   "outputs": [],
   "source": [
    "# Как и ожидалось ответ совпал"
   ]
  },
  {
   "cell_type": "code",
   "execution_count": 72,
   "metadata": {},
   "outputs": [],
   "source": [
    "v = np.zeros(11)\n",
    "v[1] = f_min1[0]\n",
    "for i in range(2,10):\n",
    "    v[i] = f_min1[i-1] + v[i-1]"
   ]
  },
  {
   "cell_type": "code",
   "execution_count": 80,
   "metadata": {},
   "outputs": [
    {
     "data": {
      "text/plain": [
       "[<matplotlib.lines.Line2D at 0x200040a8400>]"
      ]
     },
     "execution_count": 80,
     "metadata": {},
     "output_type": "execute_result"
    },
    {
     "data": {
      "image/png": "[encoded data removed]",
      "text/plain": [
       "<Figure size 432x288 with 1 Axes>"
      ]
     },
     "metadata": {
      "needs_background": "light"
     },
     "output_type": "display_data"
    }
   ],
   "source": [
    "plt.plot(np.arange(11),abs(v))"
   ]
  },
  {
   "cell_type": "code",
   "execution_count": 81,
   "metadata": {},
   "outputs": [
    {
     "data": {
      "text/plain": [
       "array([ 0.        , -0.05454545, -0.0969697 , -0.12727273, -0.14545455,\n",
       "       -0.15151515, -0.14545455, -0.12727273, -0.0969697 , -0.05454545,\n",
       "        0.        ])"
      ]
     },
     "execution_count": 81,
     "metadata": {},
     "output_type": "execute_result"
    }
   ],
   "source": [
    "v"
   ]
  },
  {
   "cell_type": "code",
   "execution_count": null,
   "metadata": {},
   "outputs": [],
   "source": []
  }
 ],
 "metadata": {
  "kernelspec": {
   "display_name": "Python 3",
   "language": "python",
   "name": "python3"
  },
  "language_info": {
   "codemirror_mode": {
    "name": "ipython",
    "version": 3
   },
   "file_extension": ".py",
   "mimetype": "text/x-python",
   "name": "python",
   "nbconvert_exporter": "python",
   "pygments_lexer": "ipython3",
   "version": "3.8.3"
  }
 },
 "nbformat": 4,
 "nbformat_minor": 4
}
