{
 "cells": [
  {
   "cell_type": "code",
   "execution_count": 1,
   "metadata": {},
   "outputs": [],
   "source": [
    "import numpy as np\n",
    "import matplotlib.pyplot as plt\n",
    "%matplotlib inline"
   ]
  },
  {
   "cell_type": "code",
   "execution_count": 2,
   "metadata": {},
   "outputs": [],
   "source": [
    "y = np.zeros(1000)\n",
    "def newton_iteration(f, fder, x0, epsilon=1e-5, maxiter=1000):\n",
    "    \"\"\"Newton's root finding method for f(x)=0\n",
    "    Parameters\n",
    "    ----------\n",
    "    f : callable\n",
    "        Function f.\n",
    "    fder : callable\n",
    "        Derivative of f.\n",
    "    x0 : float\n",
    "        Initial point for iterations.\n",
    "    eps : float\n",
    "        Requested accuracy.\n",
    "    maxiter : int\n",
    "        Maximal number of iterations.\n",
    "    \n",
    "    Returns\n",
    "    -------\n",
    "    x : float\n",
    "        Approximate root.\n",
    "    niter : int\n",
    "        Number of iterations.\n",
    "    \"\"\"\n",
    "    x_k = x0\n",
    "    N = 1\n",
    "    for i in range(maxiter):\n",
    "        y[i] = x_k\n",
    "        x_m = x_k - f(x_k)/fder(x_k)\n",
    "        if abs(x_m - x_k) < epsilon:\n",
    "            break\n",
    "        if fder(x_k) == 0:\n",
    "            break\n",
    "        x_k = x_m\n",
    "        N+=1\n",
    "    z = np.zeros(N)\n",
    "    for i in range(N):\n",
    "        z[i] = y[i]\n",
    "    return N , y[len(y)-1], z"
   ]
  },
  {
   "cell_type": "code",
   "execution_count": 3,
   "metadata": {},
   "outputs": [],
   "source": [
    "f = lambda x: x**2 - 1\n",
    "fder = lambda x: 2*x\n",
    "N,y_len,z = newton_iteration(f,fder, 6,1e-5,10000)"
   ]
  },
  {
   "cell_type": "code",
   "execution_count": 4,
   "metadata": {},
   "outputs": [
    {
     "data": {
      "image/png": "[encoded data removed]",
      "text/plain": [
       "<Figure size 432x288 with 1 Axes>"
      ]
     },
     "metadata": {
      "needs_background": "light"
     },
     "output_type": "display_data"
    }
   ],
   "source": [
    "err = (z - z[N-1])**2\n",
    "\n",
    "plt.plot(err)\n",
    "plt.yscale('log')"
   ]
  },
  {
   "cell_type": "code",
   "execution_count": 5,
   "metadata": {},
   "outputs": [
    {
     "data": {
      "text/plain": [
       "array([6.        , 3.08333333, 1.70382883, 1.14537112, 1.00922529,\n",
       "       1.00004216, 1.        ])"
      ]
     },
     "execution_count": 5,
     "metadata": {},
     "output_type": "execute_result"
    }
   ],
   "source": [
    "z"
   ]
  },
  {
   "cell_type": "code",
   "execution_count": null,
   "metadata": {},
   "outputs": [],
   "source": []
  }
 ],
 "metadata": {
  "kernelspec": {
   "display_name": "Python 3",
   "language": "python",
   "name": "python3"
  },
  "language_info": {
   "codemirror_mode": {
    "name": "ipython",
    "version": 3
   },
   "file_extension": ".py",
   "mimetype": "text/x-python",
   "name": "python",
   "nbconvert_exporter": "python",
   "pygments_lexer": "ipython3",
   "version": "3.8.3"
  }
 },
 "nbformat": 4,
 "nbformat_minor": 4
}
