{
 "cells": [
  {
   "cell_type": "code",
   "execution_count": 86,
   "metadata": {},
   "outputs": [
    {
     "data": {
      "text/plain": [
       "array([0.09531018, 0.0468982 , 0.03101798, 0.02315353, 0.01846471,\n",
       "       0.0153529 , 0.01313766, 0.01148056, 0.01019439, 0.0091672 ,\n",
       "       0.00832797, 0.00762944, 0.00703898, 0.00653332, 0.00609542,\n",
       "       0.00571251, 0.00537486, 0.00507489, 0.00480663, 0.0045653 ,\n",
       "       0.00434704, 0.00414869, 0.00396765, 0.00380178, 0.00364885,\n",
       "       0.0035115 , 0.00334656, 0.00357143, 0.        , 0.        ])"
      ]
     },
     "execution_count": 86,
     "metadata": {},
     "output_type": "execute_result"
    },
    {
     "data": {
      "image/png": "[encoded data removed]",
      "text/plain": [
       "<Figure size 432x288 with 1 Axes>"
      ]
     },
     "metadata": {
      "needs_background": "light"
     },
     "output_type": "display_data"
    }
   ],
   "source": [
    "# 1.1) Обратная рекурсия для а = 10 (через range)\n",
    "\n",
    "import numpy as np\n",
    "import matplotlib.pyplot as plt\n",
    "%matplotlib inline\n",
    "\n",
    "N = 30\n",
    "a = np.zeros(N)\n",
    "for i in range(2,N):\n",
    "    a[N-i-1] = (1 - a[N-i]*(N-i))/(10*(N-i))\n",
    "plt.plot(a[1:28])\n",
    "a"
   ]
  },
  {
   "cell_type": "code",
   "execution_count": 87,
   "metadata": {},
   "outputs": [
    {
     "data": {
      "text/plain": [
       "0.0035114977614977617"
      ]
     },
     "execution_count": 87,
     "metadata": {},
     "output_type": "execute_result"
    }
   ],
   "source": [
    "a[25]"
   ]
  },
  {
   "cell_type": "code",
   "execution_count": 68,
   "metadata": {},
   "outputs": [],
   "source": [
    "# Как раз получается знчение очень близкое к I_25(0,1)/10, посчитанное через прямую рекурсию (как и предсаазывалосьв анализе)"
   ]
  },
  {
   "cell_type": "code",
   "execution_count": 88,
   "metadata": {},
   "outputs": [
    {
     "data": {
      "text/plain": [
       "array([ 0.00000000e+00, -3.12468616e+26,  3.12468616e+25, -3.12468616e+24,\n",
       "        3.12468616e+23, -3.12468616e+22,  3.12468616e+21, -3.12468616e+20,\n",
       "        3.12468616e+19, -3.12468616e+18,  3.12468616e+17, -3.12468616e+16,\n",
       "        3.12468616e+15, -3.12468616e+14,  3.12468616e+13, -3.12468616e+12,\n",
       "        3.12468616e+11, -3.12468616e+10,  3.12468616e+09, -3.12468616e+08,\n",
       "        3.12468616e+07, -3.12468611e+06,  3.12468657e+05, -3.12468222e+04,\n",
       "        3.12472389e+03, -3.12432389e+02,  3.12817004e+01, -3.09113300e+00,\n",
       "        3.44827586e-01,  0.00000000e+00])"
      ]
     },
     "execution_count": 88,
     "metadata": {},
     "output_type": "execute_result"
    },
    {
     "data": {
      "image/png": "[encoded data removed]",
      "text/plain": [
       "<Figure size 432x288 with 1 Axes>"
      ]
     },
     "metadata": {
      "needs_background": "light"
     },
     "output_type": "display_data"
    }
   ],
   "source": [
    "# 1.2) Обратная рекурсия для а = 0.1 (через range)\n",
    "\n",
    "import numpy as np\n",
    "import matplotlib.pyplot as plt\n",
    "%matplotlib inline\n",
    "\n",
    "N = 30\n",
    "a = np.zeros(N)\n",
    "for i in range(1,N-1):\n",
    "    a[N-i-1] = (1 - a[N-i]*(N-i))/((0.1)*(N-i))\n",
    "plt.plot(a)\n",
    "a"
   ]
  },
  {
   "cell_type": "code",
   "execution_count": 89,
   "metadata": {},
   "outputs": [
    {
     "data": {
      "text/plain": [
       "-312.4323888116991"
      ]
     },
     "execution_count": 89,
     "metadata": {},
     "output_type": "execute_result"
    }
   ],
   "source": [
    "a[25]"
   ]
  },
  {
   "cell_type": "code",
   "execution_count": 90,
   "metadata": {},
   "outputs": [],
   "source": [
    "# Не может получиться отрицательного значения (смотри анализ)\n",
    "# Вывод: обратная рекурсия для а = 0.1 не работает !!!"
   ]
  },
  {
   "cell_type": "code",
   "execution_count": null,
   "metadata": {},
   "outputs": [],
   "source": []
  }
 ],
 "metadata": {
  "kernelspec": {
   "display_name": "Python 3",
   "language": "python",
   "name": "python3"
  },
  "language_info": {
   "codemirror_mode": {
    "name": "ipython",
    "version": 3
   },
   "file_extension": ".py",
   "mimetype": "text/x-python",
   "name": "python",
   "nbconvert_exporter": "python",
   "pygments_lexer": "ipython3",
   "version": "3.8.3"
  }
 },
 "nbformat": 4,
 "nbformat_minor": 4
}
