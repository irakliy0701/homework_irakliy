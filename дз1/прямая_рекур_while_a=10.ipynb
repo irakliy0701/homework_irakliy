{
 "cells": [
  {
   "cell_type": "code",
   "execution_count": 41,
   "metadata": {},
   "outputs": [],
   "source": [
    "import numpy as np\n",
    "import matplotlib.pyplot as plt\n",
    "%matplotlib inline\n",
    "a = np.zeros(100)\n",
    "a[0] = np.log((1 + 10)/(10))\n",
    "c = 1\n",
    "while c!=100:\n",
    "    a[c] = (1 - (10)*c*a[c-1])/c\n",
    "    c+=1"
   ]
  },
  {
   "cell_type": "code",
   "execution_count": 42,
   "metadata": {},
   "outputs": [
    {
     "data": {
      "text/plain": [
       "[<matplotlib.lines.Line2D at 0x2c7c2333e20>]"
      ]
     },
     "execution_count": 42,
     "metadata": {},
     "output_type": "execute_result"
    },
    {
     "data": {
      "image/png": "[encoded data removed]",
      "text/plain": [
       "<Figure size 432x288 with 1 Axes>"
      ]
     },
     "metadata": {
      "needs_background": "light"
     },
     "output_type": "display_data"
    }
   ],
   "source": [
    "plt.plot(a[1:])"
   ]
  },
  {
   "cell_type": "code",
   "execution_count": 43,
   "metadata": {},
   "outputs": [
    {
     "data": {
      "text/plain": [
       "-748181024.533525"
      ]
     },
     "execution_count": 43,
     "metadata": {},
     "output_type": "execute_result"
    }
   ],
   "source": [
    "a[25]"
   ]
  },
  {
   "cell_type": "code",
   "execution_count": 44,
   "metadata": {},
   "outputs": [
    {
     "data": {
      "text/plain": [
       "array([ 9.53101798e-02,  4.68982020e-02,  3.10179804e-02,  2.31535290e-02,\n",
       "        1.84647099e-02,  1.53529008e-02,  1.31376583e-02,  1.14805602e-02,\n",
       "        1.01943982e-02,  9.16712863e-03,  8.32871370e-03,  7.62195391e-03,\n",
       "        7.11379423e-03,  5.78513459e-03,  1.35772255e-02, -6.91055888e-02,\n",
       "        7.53555888e-01, -7.47673535e+00,  7.48229091e+01, -7.48176459e+02,\n",
       "        7.48181459e+03, -7.48180983e+04,  7.48181029e+05, -7.48181024e+06,\n",
       "        7.48181025e+07, -7.48181025e+08,  7.48181025e+09, -7.48181025e+10,\n",
       "        7.48181025e+11, -7.48181025e+12,  7.48181025e+13, -7.48181025e+14,\n",
       "        7.48181025e+15, -7.48181025e+16,  7.48181025e+17, -7.48181025e+18,\n",
       "        7.48181025e+19, -7.48181025e+20,  7.48181025e+21, -7.48181025e+22,\n",
       "        7.48181025e+23, -7.48181025e+24,  7.48181025e+25, -7.48181025e+26,\n",
       "        7.48181025e+27, -7.48181025e+28,  7.48181025e+29, -7.48181025e+30,\n",
       "        7.48181025e+31, -7.48181025e+32,  7.48181025e+33, -7.48181025e+34,\n",
       "        7.48181025e+35, -7.48181025e+36,  7.48181025e+37, -7.48181025e+38,\n",
       "        7.48181025e+39, -7.48181025e+40,  7.48181025e+41, -7.48181025e+42,\n",
       "        7.48181025e+43, -7.48181025e+44,  7.48181025e+45, -7.48181025e+46,\n",
       "        7.48181025e+47, -7.48181025e+48,  7.48181025e+49, -7.48181025e+50,\n",
       "        7.48181025e+51, -7.48181025e+52,  7.48181025e+53, -7.48181025e+54,\n",
       "        7.48181025e+55, -7.48181025e+56,  7.48181025e+57, -7.48181025e+58,\n",
       "        7.48181025e+59, -7.48181025e+60,  7.48181025e+61, -7.48181025e+62,\n",
       "        7.48181025e+63, -7.48181025e+64,  7.48181025e+65, -7.48181025e+66,\n",
       "        7.48181025e+67, -7.48181025e+68,  7.48181025e+69, -7.48181025e+70,\n",
       "        7.48181025e+71, -7.48181025e+72,  7.48181025e+73, -7.48181025e+74,\n",
       "        7.48181025e+75, -7.48181025e+76,  7.48181025e+77, -7.48181025e+78,\n",
       "        7.48181025e+79, -7.48181025e+80,  7.48181025e+81, -7.48181025e+82])"
      ]
     },
     "execution_count": 44,
     "metadata": {},
     "output_type": "execute_result"
    }
   ],
   "source": [
    "a"
   ]
  },
  {
   "cell_type": "code",
   "execution_count": null,
   "metadata": {},
   "outputs": [],
   "source": []
  },
  {
   "cell_type": "code",
   "execution_count": null,
   "metadata": {},
   "outputs": [],
   "source": []
  },
  {
   "cell_type": "code",
   "execution_count": null,
   "metadata": {},
   "outputs": [],
   "source": []
  },
  {
   "cell_type": "code",
   "execution_count": null,
   "metadata": {},
   "outputs": [],
   "source": []
  },
  {
   "cell_type": "code",
   "execution_count": null,
   "metadata": {},
   "outputs": [],
   "source": []
  },
  {
   "cell_type": "code",
   "execution_count": null,
   "metadata": {},
   "outputs": [],
   "source": []
  }
 ],
 "metadata": {
  "kernelspec": {
   "display_name": "Python 3",
   "language": "python",
   "name": "python3"
  },
  "language_info": {
   "codemirror_mode": {
    "name": "ipython",
    "version": 3
   },
   "file_extension": ".py",
   "mimetype": "text/x-python",
   "name": "python",
   "nbconvert_exporter": "python",
   "pygments_lexer": "ipython3",
   "version": "3.8.3"
  }
 },
 "nbformat": 4,
 "nbformat_minor": 4
}
