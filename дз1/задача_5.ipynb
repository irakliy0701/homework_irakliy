{
 "cells": [
  {
   "cell_type": "code",
   "execution_count": 1,
   "metadata": {},
   "outputs": [
    {
     "name": "stdout",
     "output_type": "stream",
     "text": [
      "1.6446\n"
     ]
    }
   ],
   "source": [
    "res=0                        #в цикле, который дан в задаче выводит 2 знака в ответе (1.64), так как идет округление при каждой итерации цикла.\n",
    "                             #Получается, что последнее значение постоянно пропадает. И в итоге доходит до того, что аж 2 значащие цифры теряются в финальном ответе.\n",
    "for k in range(1,3001):  \n",
    "    res+=1/k**2\n",
    "res = round(res,4)\n",
    "print(res)"
   ]
  },
  {
   "cell_type": "code",
   "execution_count": null,
   "metadata": {},
   "outputs": [],
   "source": []
  },
  {
   "cell_type": "code",
   "execution_count": 1,
   "metadata": {},
   "outputs": [
    {
     "name": "stdout",
     "output_type": "stream",
     "text": [
      "0.55\n",
      "1.1\n",
      "1.6500000000000001\n",
      "2.2\n",
      "2.75\n",
      "3.3\n",
      "3.8499999999999996\n",
      "4.3999999999999995\n",
      "4.949999999999999\n"
     ]
    }
   ],
   "source": [
    "res=0                            \n",
    "for i in range (1,10):\n",
    "    res+=0.55\n",
    "    print(res)"
   ]
  },
  {
   "cell_type": "markdown",
   "metadata": {},
   "source": []
  },
  {
   "cell_type": "code",
   "execution_count": 2,
   "metadata": {},
   "outputs": [
    {
     "name": "stdout",
     "output_type": "stream",
     "text": [
      "0.6\n",
      "1.1\n",
      "1.7\n",
      "2.2\n",
      "2.8\n",
      "3.3\n",
      "3.8\n",
      "4.3\n",
      "4.8\n"
     ]
    }
   ],
   "source": [
    "res=0\n",
    "for i in range(1,10):\n",
    "    res=round(res+0.55,1)\n",
    "    print(res)"
   ]
  },
  {
   "cell_type": "code",
   "execution_count": 11,
   "metadata": {},
   "outputs": [
    {
     "data": {
      "text/plain": [
       "4.8"
      ]
     },
     "execution_count": 11,
     "metadata": {},
     "output_type": "execute_result"
    }
   ],
   "source": [
    "res"
   ]
  },
  {
   "cell_type": "code",
   "execution_count": 3,
   "metadata": {},
   "outputs": [],
   "source": [
    "import math\n",
    "def fi(x,n):\n",
    "    if x==0:\n",
    "        return x\n",
    "    else:\n",
    "        return round(x, -int(math.floor(math.log(abs(x)))) + (n-1))"
   ]
  },
  {
   "cell_type": "code",
   "execution_count": 4,
   "metadata": {},
   "outputs": [
    {
     "data": {
      "text/plain": [
       "2"
      ]
     },
     "execution_count": 4,
     "metadata": {},
     "output_type": "execute_result"
    }
   ],
   "source": [
    "fi(2,3)"
   ]
  },
  {
   "cell_type": "code",
   "execution_count": null,
   "metadata": {},
   "outputs": [],
   "source": []
  }
 ],
 "metadata": {
  "kernelspec": {
   "display_name": "Python 3",
   "language": "python",
   "name": "python3"
  },
  "language_info": {
   "codemirror_mode": {
    "name": "ipython",
    "version": 3
   },
   "file_extension": ".py",
   "mimetype": "text/x-python",
   "name": "python",
   "nbconvert_exporter": "python",
   "pygments_lexer": "ipython3",
   "version": "3.8.3"
  }
 },
 "nbformat": 4,
 "nbformat_minor": 4
}
