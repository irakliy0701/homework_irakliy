{
 "cells": [
  {
   "cell_type": "code",
   "execution_count": 27,
   "metadata": {},
   "outputs": [],
   "source": [
    "# 1) Убедимся, что написанная в условии функция округляет x до n значащих цифр:\n",
    "\n",
    "import math\n",
    "def round_to_n(x, n):\n",
    "    if x==0:\n",
    "        return x\n",
    "    else:\n",
    "        return round(x, -int(math.floor(math.log10(abs(x)))) + (n-1))"
   ]
  },
  {
   "cell_type": "code",
   "execution_count": 28,
   "metadata": {},
   "outputs": [
    {
     "data": {
      "text/plain": [
       "16.3"
      ]
     },
     "execution_count": 28,
     "metadata": {},
     "output_type": "execute_result"
    }
   ],
   "source": [
    "round_to_n(16.2722, 3) # оругляет до n-2 знаков"
   ]
  },
  {
   "cell_type": "code",
   "execution_count": 29,
   "metadata": {},
   "outputs": [
    {
     "data": {
      "text/plain": [
       "6.27"
      ]
     },
     "execution_count": 29,
     "metadata": {},
     "output_type": "execute_result"
    }
   ],
   "source": [
    "round_to_n(6.2722, 3) # округляет до n-1 знака "
   ]
  },
  {
   "cell_type": "code",
   "execution_count": 30,
   "metadata": {},
   "outputs": [],
   "source": [
    "# Округление происходит в зависимости от самого x "
   ]
  },
  {
   "cell_type": "code",
   "execution_count": 36,
   "metadata": {},
   "outputs": [],
   "source": [
    "# 2) Поймем почему код, написанный в улсовии, для подсчета ряда неверный\n",
    "\n",
    "import math\n",
    "def round_to_n(x,n):\n",
    "    if x==0:\n",
    "        return x\n",
    "    else:\n",
    "        return round(x, -int(math.floor(math.log10(abs(x)))) + (n-1))\n",
    "\n",
    "res = 0\n",
    "for k in range(1,3001):\n",
    "    res = round_to_n(res + 1/k**2 ,4)   "
   ]
  },
  {
   "cell_type": "code",
   "execution_count": 37,
   "metadata": {},
   "outputs": [
    {
     "data": {
      "text/plain": [
       "1.624"
      ]
     },
     "execution_count": 37,
     "metadata": {},
     "output_type": "execute_result"
    }
   ],
   "source": [
    "res"
   ]
  },
  {
   "cell_type": "code",
   "execution_count": 38,
   "metadata": {},
   "outputs": [
    {
     "name": "stdout",
     "output_type": "stream",
     "text": [
      "1.6446\n"
     ]
    }
   ],
   "source": [
    "# Модифицированный алгоритм 1 нахождения суммы (без потери точности)\n",
    "res=0                       \n",
    "for k in range(1,3001):  \n",
    "    res+=1/k**2\n",
    "res = round(res,4)\n",
    "print(res)"
   ]
  },
  {
   "cell_type": "code",
   "execution_count": 43,
   "metadata": {},
   "outputs": [
    {
     "data": {
      "text/plain": [
       "1.6446"
      ]
     },
     "execution_count": 43,
     "metadata": {},
     "output_type": "execute_result"
    }
   ],
   "source": [
    "# Модифицированный алгоритм 2 нахождения суммы\n",
    "res = 0\n",
    "for k in range(3000,0,-1):\n",
    "    res = round_to_n(res + 1/k**2,5)\n",
    "res"
   ]
  },
  {
   "cell_type": "code",
   "execution_count": null,
   "metadata": {},
   "outputs": [],
   "source": []
  },
  {
   "cell_type": "code",
   "execution_count": null,
   "metadata": {},
   "outputs": [],
   "source": []
  },
  {
   "cell_type": "code",
   "execution_count": null,
   "metadata": {},
   "outputs": [],
   "source": []
  }
 ],
 "metadata": {
  "kernelspec": {
   "display_name": "Python 3",
   "language": "python",
   "name": "python3"
  },
  "language_info": {
   "codemirror_mode": {
    "name": "ipython",
    "version": 3
   },
   "file_extension": ".py",
   "mimetype": "text/x-python",
   "name": "python",
   "nbconvert_exporter": "python",
   "pygments_lexer": "ipython3",
   "version": "3.8.3"
  }
 },
 "nbformat": 4,
 "nbformat_minor": 4
}
