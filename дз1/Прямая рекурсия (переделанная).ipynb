{
 "cells": [
  {
   "cell_type": "code",
   "execution_count": 37,
   "metadata": {},
   "outputs": [],
   "source": [
    "# 1.1) Прямая рекурсия для 0.1 (через range)\n",
    "\n",
    "import numpy as np\n",
    "import matplotlib.pyplot as plt\n",
    "%matplotlib inline\n",
    "N = 30\n",
    "a = np.zeros(N)\n",
    "a[0] = np.log((1 + 0.1)/(0.1)) # тут именно натуральный логарифм (так полуичлось при рассчетах на бумаге)\n",
    "for i in range(1,N-1):\n",
    "    a[i] = (1 - (0.1)*(i)*a[i-1])/(i)"
   ]
  },
  {
   "cell_type": "code",
   "execution_count": 38,
   "metadata": {},
   "outputs": [
    {
     "data": {
      "text/plain": [
       "[<matplotlib.lines.Line2D at 0x287fca9bbb0>]"
      ]
     },
     "execution_count": 38,
     "metadata": {},
     "output_type": "execute_result"
    },
    {
     "data": {
      "image/png": "[encoded data removed]",
      "text/plain": [
       "<Figure size 432x288 with 1 Axes>"
      ]
     },
     "metadata": {
      "needs_background": "light"
     },
     "output_type": "display_data"
    }
   ],
   "source": [
    "plt.plot(a)"
   ]
  },
  {
   "cell_type": "code",
   "execution_count": 39,
   "metadata": {},
   "outputs": [
    {
     "data": {
      "text/plain": [
       "0.03622697090911682"
      ]
     },
     "execution_count": 39,
     "metadata": {},
     "output_type": "execute_result"
    }
   ],
   "source": [
    "a[25]"
   ]
  },
  {
   "cell_type": "code",
   "execution_count": 40,
   "metadata": {},
   "outputs": [
    {
     "data": {
      "text/plain": [
       "array([2.39789527, 0.76021047, 0.42397895, 0.29093544, 0.22090646,\n",
       "       0.17790935, 0.14887573, 0.12796957, 0.11220304, 0.09989081,\n",
       "       0.09001092, 0.081908  , 0.07514253, 0.06940882, 0.06448769,\n",
       "       0.0602179 , 0.05647821, 0.05317571, 0.05023798, 0.04760778,\n",
       "       0.04523922, 0.04309513, 0.04114503, 0.03936376, 0.03773029,\n",
       "       0.03622697, 0.03483884, 0.03355315, 0.03235897, 0.        ])"
      ]
     },
     "execution_count": 40,
     "metadata": {},
     "output_type": "execute_result"
    }
   ],
   "source": [
    "a"
   ]
  },
  {
   "cell_type": "code",
   "execution_count": 59,
   "metadata": {},
   "outputs": [
    {
     "data": {
      "text/plain": [
       "[<matplotlib.lines.Line2D at 0x287fe186880>]"
      ]
     },
     "execution_count": 59,
     "metadata": {},
     "output_type": "execute_result"
    },
    {
     "data": {
      "image/png": "[encoded data removed]",
      "text/plain": [
       "<Figure size 432x288 with 1 Axes>"
      ]
     },
     "metadata": {
      "needs_background": "light"
     },
     "output_type": "display_data"
    }
   ],
   "source": [
    "# 1.2) Прямая рекурсия для 10 (через range)\n",
    "\n",
    "import numpy as np\n",
    "import matplotlib.pyplot as plt\n",
    "%matplotlib inline\n",
    "N = 30\n",
    "a = np.zeros(N)\n",
    "a[0] = np.log((1 + 10)/(10))\n",
    "for i in range(0,N-1):\n",
    "    a[i + 1] = (1 - (10)*( i + 1)*a[i])/(i+1)\n",
    "plt.plot(a)\n"
   ]
  },
  {
   "cell_type": "code",
   "execution_count": 42,
   "metadata": {},
   "outputs": [
    {
     "data": {
      "text/plain": [
       "-748181024.533525"
      ]
     },
     "execution_count": 42,
     "metadata": {},
     "output_type": "execute_result"
    }
   ],
   "source": [
    "a[25] # не должно получаться отрицательного значения !!!"
   ]
  },
  {
   "cell_type": "code",
   "execution_count": 43,
   "metadata": {},
   "outputs": [
    {
     "data": {
      "text/plain": [
       "array([ 9.53101798e-02,  4.68982020e-02,  3.10179804e-02,  2.31535290e-02,\n",
       "        1.84647099e-02,  1.53529008e-02,  1.31376583e-02,  1.14805602e-02,\n",
       "        1.01943982e-02,  9.16712863e-03,  8.32871370e-03,  7.62195391e-03,\n",
       "        7.11379423e-03,  5.78513459e-03,  1.35772255e-02, -6.91055888e-02,\n",
       "        7.53555888e-01, -7.47673535e+00,  7.48229091e+01, -7.48176459e+02,\n",
       "        7.48181459e+03, -7.48180983e+04,  7.48181029e+05, -7.48181024e+06,\n",
       "        7.48181025e+07, -7.48181025e+08,  7.48181025e+09, -7.48181025e+10,\n",
       "        7.48181025e+11, -7.48181025e+12])"
      ]
     },
     "execution_count": 43,
     "metadata": {},
     "output_type": "execute_result"
    }
   ],
   "source": [
    "a"
   ]
  },
  {
   "cell_type": "code",
   "execution_count": 44,
   "metadata": {},
   "outputs": [],
   "source": [
    "# Вывод: Прямая рекурсия для а=10 не работает !!!"
   ]
  },
  {
   "cell_type": "code",
   "execution_count": 45,
   "metadata": {},
   "outputs": [
    {
     "data": {
      "text/plain": [
       "[<matplotlib.lines.Line2D at 0x287fdefe610>]"
      ]
     },
     "execution_count": 45,
     "metadata": {},
     "output_type": "execute_result"
    },
    {
     "data": {
      "image/png": "[encoded data removed]",
      "text/plain": [
       "<Figure size 432x288 with 1 Axes>"
      ]
     },
     "metadata": {
      "needs_background": "light"
     },
     "output_type": "display_data"
    }
   ],
   "source": [
    "# 2.1) Напишем прямую рекурсию через while для а = 0.1:\n",
    "\n",
    "import numpy as np\n",
    "import matplotlib.pyplot as plt\n",
    "%matplotlib inline\n",
    "a = np.zeros(100)\n",
    "a[0] = np.log((1 + 0.1)/(0.1))\n",
    "c = 1\n",
    "while c!=100:\n",
    "    a[c] = (1 - (0.1)*c*a[c-1])/c\n",
    "    c+=1\n",
    "\n",
    "plt.plot(a)"
   ]
  },
  {
   "cell_type": "code",
   "execution_count": 46,
   "metadata": {},
   "outputs": [
    {
     "data": {
      "text/plain": [
       "0.03622697090911682"
      ]
     },
     "execution_count": 46,
     "metadata": {},
     "output_type": "execute_result"
    }
   ],
   "source": [
    "a[25]"
   ]
  },
  {
   "cell_type": "code",
   "execution_count": 47,
   "metadata": {},
   "outputs": [],
   "source": [
    "# Сошлось с значением посчитанным через range"
   ]
  },
  {
   "cell_type": "code",
   "execution_count": 48,
   "metadata": {},
   "outputs": [
    {
     "data": {
      "text/plain": [
       "[<matplotlib.lines.Line2D at 0x287fdf4cd00>]"
      ]
     },
     "execution_count": 48,
     "metadata": {},
     "output_type": "execute_result"
    },
    {
     "data": {
      "image/png": "[encoded data removed]",
      "text/plain": [
       "<Figure size 432x288 with 1 Axes>"
      ]
     },
     "metadata": {
      "needs_background": "light"
     },
     "output_type": "display_data"
    }
   ],
   "source": [
    "# 2.2) Напишем прямую рекурсию через while для а = 10:\n",
    "\n",
    "import numpy as np\n",
    "import matplotlib.pyplot as plt\n",
    "%matplotlib inline\n",
    "a = np.zeros(100)\n",
    "a[0] = np.log((1 + 10)/(10))\n",
    "c = 1\n",
    "while c!=100:\n",
    "    a[c] = (1 - (10)*c*a[c-1])/c\n",
    "    c+=1\n",
    "\n",
    "plt.plot(a[1:])"
   ]
  },
  {
   "cell_type": "code",
   "execution_count": 49,
   "metadata": {},
   "outputs": [
    {
     "data": {
      "text/plain": [
       "-748181024.533525"
      ]
     },
     "execution_count": 49,
     "metadata": {},
     "output_type": "execute_result"
    }
   ],
   "source": [
    "a[25]"
   ]
  },
  {
   "cell_type": "code",
   "execution_count": 50,
   "metadata": {},
   "outputs": [],
   "source": [
    "# Сошлось с значением посчитанным через range\n",
    "# Вывод: Прямая рекурсия для а=10 не работает !!!"
   ]
  },
  {
   "cell_type": "code",
   "execution_count": 51,
   "metadata": {},
   "outputs": [
    {
     "data": {
      "text/plain": [
       "2.3978952727983707"
      ]
     },
     "execution_count": 51,
     "metadata": {},
     "output_type": "execute_result"
    }
   ],
   "source": [
    "np.log((1 + 0.1)/(0.1))"
   ]
  },
  {
   "cell_type": "code",
   "execution_count": null,
   "metadata": {},
   "outputs": [],
   "source": []
  }
 ],
 "metadata": {
  "kernelspec": {
   "display_name": "Python 3",
   "language": "python",
   "name": "python3"
  },
  "language_info": {
   "codemirror_mode": {
    "name": "ipython",
    "version": 3
   },
   "file_extension": ".py",
   "mimetype": "text/x-python",
   "name": "python",
   "nbconvert_exporter": "python",
   "pygments_lexer": "ipython3",
   "version": "3.8.3"
  }
 },
 "nbformat": 4,
 "nbformat_minor": 4
}
